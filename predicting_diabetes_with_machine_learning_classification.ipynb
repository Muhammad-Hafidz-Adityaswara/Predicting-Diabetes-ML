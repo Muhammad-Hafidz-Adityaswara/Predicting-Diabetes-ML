{
 "cells": [
  {
   "cell_type": "markdown",
   "metadata": {},
   "source": [
    "# **A. Import Libraries**"
   ]
  },
  {
   "cell_type": "code",
   "execution_count": 1,
   "metadata": {},
   "outputs": [],
   "source": [
    "import pandas as pd\n",
    "import numpy as np\n",
    "\n",
    "# Visualisasi\n",
    "import matplotlib.pyplot as plt\n",
    "import seaborn as sns\n",
    "\n",
    "# Scikitlearn\n",
    "from sklearn.model_selection import train_test_split\n",
    "from sklearn.compose import ColumnTransformer\n",
    "from sklearn.pipeline import Pipeline\n",
    "from sklearn.preprocessing import StandardScaler, OrdinalEncoder \n",
    "\n",
    "# Algorithma\n",
    "from sklearn.neighbors import KNeighborsClassifier\n",
    "from sklearn.svm import SVC\n",
    "from sklearn.tree import DecisionTreeClassifier\n",
    "from sklearn.ensemble import RandomForestClassifier\n",
    "from sklearn.ensemble import AdaBoostClassifier\n",
    "\n",
    "# Handling \n",
    "from scipy.stats import kendalltau, chi2_contingency # Correlasi Check\n",
    "from feature_engine.outliers import Winsorizer # Handling Outlier\n",
    "\n",
    "# Metriks\n",
    "from sklearn.metrics import classification_report,accuracy_score, confusion_matrix, f1_score, recall_score\n",
    "\n",
    "# Gridsearch\n",
    "from sklearn.model_selection import GridSearchCV, cross_val_score, StratifiedKFold\n",
    "\n",
    "# Save model\n",
    "import pickle\n",
    "import json\n",
    "\n",
    "pd.options.display.max_columns = None"
   ]
  },
  {
   "cell_type": "markdown",
   "metadata": {},
   "source": [
    "# **B. Data Loading**"
   ]
  },
  {
   "cell_type": "code",
   "execution_count": 2,
   "metadata": {},
   "outputs": [
    {
     "data": {
      "text/html": [
       "<div>\n",
       "<style scoped>\n",
       "    .dataframe tbody tr th:only-of-type {\n",
       "        vertical-align: middle;\n",
       "    }\n",
       "\n",
       "    .dataframe tbody tr th {\n",
       "        vertical-align: top;\n",
       "    }\n",
       "\n",
       "    .dataframe thead th {\n",
       "        text-align: right;\n",
       "    }\n",
       "</style>\n",
       "<table border=\"1\" class=\"dataframe\">\n",
       "  <thead>\n",
       "    <tr style=\"text-align: right;\">\n",
       "      <th></th>\n",
       "      <th>Age</th>\n",
       "      <th>Sex</th>\n",
       "      <th>HighChol</th>\n",
       "      <th>CholCheck</th>\n",
       "      <th>BMI</th>\n",
       "      <th>Smoker</th>\n",
       "      <th>HeartDiseaseorAttack</th>\n",
       "      <th>PhysActivity</th>\n",
       "      <th>Fruits</th>\n",
       "      <th>Veggies</th>\n",
       "      <th>HvyAlcoholConsump</th>\n",
       "      <th>GenHlth</th>\n",
       "      <th>MentHlth</th>\n",
       "      <th>PhysHlth</th>\n",
       "      <th>DiffWalk</th>\n",
       "      <th>Stroke</th>\n",
       "      <th>HighBP</th>\n",
       "      <th>Diabetes</th>\n",
       "    </tr>\n",
       "  </thead>\n",
       "  <tbody>\n",
       "    <tr>\n",
       "      <th>0</th>\n",
       "      <td>4.0</td>\n",
       "      <td>1.0</td>\n",
       "      <td>0.0</td>\n",
       "      <td>1.0</td>\n",
       "      <td>26.0</td>\n",
       "      <td>0.0</td>\n",
       "      <td>0.0</td>\n",
       "      <td>1.0</td>\n",
       "      <td>0.0</td>\n",
       "      <td>1.0</td>\n",
       "      <td>0.0</td>\n",
       "      <td>3.0</td>\n",
       "      <td>5.0</td>\n",
       "      <td>30.0</td>\n",
       "      <td>0.0</td>\n",
       "      <td>0.0</td>\n",
       "      <td>1.0</td>\n",
       "      <td>0.0</td>\n",
       "    </tr>\n",
       "    <tr>\n",
       "      <th>1</th>\n",
       "      <td>12.0</td>\n",
       "      <td>1.0</td>\n",
       "      <td>1.0</td>\n",
       "      <td>1.0</td>\n",
       "      <td>26.0</td>\n",
       "      <td>1.0</td>\n",
       "      <td>0.0</td>\n",
       "      <td>0.0</td>\n",
       "      <td>1.0</td>\n",
       "      <td>0.0</td>\n",
       "      <td>0.0</td>\n",
       "      <td>3.0</td>\n",
       "      <td>0.0</td>\n",
       "      <td>0.0</td>\n",
       "      <td>0.0</td>\n",
       "      <td>1.0</td>\n",
       "      <td>1.0</td>\n",
       "      <td>0.0</td>\n",
       "    </tr>\n",
       "    <tr>\n",
       "      <th>2</th>\n",
       "      <td>13.0</td>\n",
       "      <td>1.0</td>\n",
       "      <td>0.0</td>\n",
       "      <td>1.0</td>\n",
       "      <td>26.0</td>\n",
       "      <td>0.0</td>\n",
       "      <td>0.0</td>\n",
       "      <td>1.0</td>\n",
       "      <td>1.0</td>\n",
       "      <td>1.0</td>\n",
       "      <td>0.0</td>\n",
       "      <td>1.0</td>\n",
       "      <td>0.0</td>\n",
       "      <td>10.0</td>\n",
       "      <td>0.0</td>\n",
       "      <td>0.0</td>\n",
       "      <td>0.0</td>\n",
       "      <td>0.0</td>\n",
       "    </tr>\n",
       "    <tr>\n",
       "      <th>3</th>\n",
       "      <td>11.0</td>\n",
       "      <td>1.0</td>\n",
       "      <td>1.0</td>\n",
       "      <td>1.0</td>\n",
       "      <td>28.0</td>\n",
       "      <td>1.0</td>\n",
       "      <td>0.0</td>\n",
       "      <td>1.0</td>\n",
       "      <td>1.0</td>\n",
       "      <td>1.0</td>\n",
       "      <td>0.0</td>\n",
       "      <td>3.0</td>\n",
       "      <td>0.0</td>\n",
       "      <td>3.0</td>\n",
       "      <td>0.0</td>\n",
       "      <td>0.0</td>\n",
       "      <td>1.0</td>\n",
       "      <td>0.0</td>\n",
       "    </tr>\n",
       "    <tr>\n",
       "      <th>4</th>\n",
       "      <td>8.0</td>\n",
       "      <td>0.0</td>\n",
       "      <td>0.0</td>\n",
       "      <td>1.0</td>\n",
       "      <td>29.0</td>\n",
       "      <td>1.0</td>\n",
       "      <td>0.0</td>\n",
       "      <td>1.0</td>\n",
       "      <td>1.0</td>\n",
       "      <td>1.0</td>\n",
       "      <td>0.0</td>\n",
       "      <td>2.0</td>\n",
       "      <td>0.0</td>\n",
       "      <td>0.0</td>\n",
       "      <td>0.0</td>\n",
       "      <td>0.0</td>\n",
       "      <td>0.0</td>\n",
       "      <td>0.0</td>\n",
       "    </tr>\n",
       "    <tr>\n",
       "      <th>5</th>\n",
       "      <td>1.0</td>\n",
       "      <td>0.0</td>\n",
       "      <td>0.0</td>\n",
       "      <td>1.0</td>\n",
       "      <td>18.0</td>\n",
       "      <td>0.0</td>\n",
       "      <td>0.0</td>\n",
       "      <td>1.0</td>\n",
       "      <td>1.0</td>\n",
       "      <td>1.0</td>\n",
       "      <td>0.0</td>\n",
       "      <td>2.0</td>\n",
       "      <td>7.0</td>\n",
       "      <td>0.0</td>\n",
       "      <td>0.0</td>\n",
       "      <td>0.0</td>\n",
       "      <td>0.0</td>\n",
       "      <td>0.0</td>\n",
       "    </tr>\n",
       "    <tr>\n",
       "      <th>6</th>\n",
       "      <td>13.0</td>\n",
       "      <td>1.0</td>\n",
       "      <td>1.0</td>\n",
       "      <td>1.0</td>\n",
       "      <td>26.0</td>\n",
       "      <td>1.0</td>\n",
       "      <td>0.0</td>\n",
       "      <td>1.0</td>\n",
       "      <td>1.0</td>\n",
       "      <td>1.0</td>\n",
       "      <td>1.0</td>\n",
       "      <td>1.0</td>\n",
       "      <td>0.0</td>\n",
       "      <td>0.0</td>\n",
       "      <td>0.0</td>\n",
       "      <td>0.0</td>\n",
       "      <td>0.0</td>\n",
       "      <td>0.0</td>\n",
       "    </tr>\n",
       "    <tr>\n",
       "      <th>7</th>\n",
       "      <td>6.0</td>\n",
       "      <td>1.0</td>\n",
       "      <td>0.0</td>\n",
       "      <td>1.0</td>\n",
       "      <td>31.0</td>\n",
       "      <td>1.0</td>\n",
       "      <td>0.0</td>\n",
       "      <td>0.0</td>\n",
       "      <td>1.0</td>\n",
       "      <td>1.0</td>\n",
       "      <td>0.0</td>\n",
       "      <td>4.0</td>\n",
       "      <td>0.0</td>\n",
       "      <td>0.0</td>\n",
       "      <td>0.0</td>\n",
       "      <td>0.0</td>\n",
       "      <td>0.0</td>\n",
       "      <td>0.0</td>\n",
       "    </tr>\n",
       "    <tr>\n",
       "      <th>8</th>\n",
       "      <td>3.0</td>\n",
       "      <td>0.0</td>\n",
       "      <td>0.0</td>\n",
       "      <td>1.0</td>\n",
       "      <td>32.0</td>\n",
       "      <td>0.0</td>\n",
       "      <td>0.0</td>\n",
       "      <td>1.0</td>\n",
       "      <td>1.0</td>\n",
       "      <td>1.0</td>\n",
       "      <td>0.0</td>\n",
       "      <td>3.0</td>\n",
       "      <td>0.0</td>\n",
       "      <td>0.0</td>\n",
       "      <td>0.0</td>\n",
       "      <td>0.0</td>\n",
       "      <td>0.0</td>\n",
       "      <td>0.0</td>\n",
       "    </tr>\n",
       "    <tr>\n",
       "      <th>9</th>\n",
       "      <td>6.0</td>\n",
       "      <td>1.0</td>\n",
       "      <td>0.0</td>\n",
       "      <td>1.0</td>\n",
       "      <td>27.0</td>\n",
       "      <td>1.0</td>\n",
       "      <td>0.0</td>\n",
       "      <td>0.0</td>\n",
       "      <td>1.0</td>\n",
       "      <td>1.0</td>\n",
       "      <td>0.0</td>\n",
       "      <td>3.0</td>\n",
       "      <td>0.0</td>\n",
       "      <td>6.0</td>\n",
       "      <td>0.0</td>\n",
       "      <td>0.0</td>\n",
       "      <td>0.0</td>\n",
       "      <td>0.0</td>\n",
       "    </tr>\n",
       "  </tbody>\n",
       "</table>\n",
       "</div>"
      ],
      "text/plain": [
       "    Age  Sex  HighChol  CholCheck   BMI  Smoker  HeartDiseaseorAttack  \\\n",
       "0   4.0  1.0       0.0        1.0  26.0     0.0                   0.0   \n",
       "1  12.0  1.0       1.0        1.0  26.0     1.0                   0.0   \n",
       "2  13.0  1.0       0.0        1.0  26.0     0.0                   0.0   \n",
       "3  11.0  1.0       1.0        1.0  28.0     1.0                   0.0   \n",
       "4   8.0  0.0       0.0        1.0  29.0     1.0                   0.0   \n",
       "5   1.0  0.0       0.0        1.0  18.0     0.0                   0.0   \n",
       "6  13.0  1.0       1.0        1.0  26.0     1.0                   0.0   \n",
       "7   6.0  1.0       0.0        1.0  31.0     1.0                   0.0   \n",
       "8   3.0  0.0       0.0        1.0  32.0     0.0                   0.0   \n",
       "9   6.0  1.0       0.0        1.0  27.0     1.0                   0.0   \n",
       "\n",
       "   PhysActivity  Fruits  Veggies  HvyAlcoholConsump  GenHlth  MentHlth  \\\n",
       "0           1.0     0.0      1.0                0.0      3.0       5.0   \n",
       "1           0.0     1.0      0.0                0.0      3.0       0.0   \n",
       "2           1.0     1.0      1.0                0.0      1.0       0.0   \n",
       "3           1.0     1.0      1.0                0.0      3.0       0.0   \n",
       "4           1.0     1.0      1.0                0.0      2.0       0.0   \n",
       "5           1.0     1.0      1.0                0.0      2.0       7.0   \n",
       "6           1.0     1.0      1.0                1.0      1.0       0.0   \n",
       "7           0.0     1.0      1.0                0.0      4.0       0.0   \n",
       "8           1.0     1.0      1.0                0.0      3.0       0.0   \n",
       "9           0.0     1.0      1.0                0.0      3.0       0.0   \n",
       "\n",
       "   PhysHlth  DiffWalk  Stroke  HighBP  Diabetes  \n",
       "0      30.0       0.0     0.0     1.0       0.0  \n",
       "1       0.0       0.0     1.0     1.0       0.0  \n",
       "2      10.0       0.0     0.0     0.0       0.0  \n",
       "3       3.0       0.0     0.0     1.0       0.0  \n",
       "4       0.0       0.0     0.0     0.0       0.0  \n",
       "5       0.0       0.0     0.0     0.0       0.0  \n",
       "6       0.0       0.0     0.0     0.0       0.0  \n",
       "7       0.0       0.0     0.0     0.0       0.0  \n",
       "8       0.0       0.0     0.0     0.0       0.0  \n",
       "9       6.0       0.0     0.0     0.0       0.0  "
      ]
     },
     "execution_count": 2,
     "metadata": {},
     "output_type": "execute_result"
    }
   ],
   "source": [
    "# Load data and search for information related to tables\n",
    "# read file .csv\n",
    "dataset = pd.read_csv('diabetes_data.csv')\n",
    "\n",
    "# Displays the top 10 data\n",
    "dataset.head(10)"
   ]
  },
  {
   "cell_type": "code",
   "execution_count": 3,
   "metadata": {},
   "outputs": [
    {
     "data": {
      "text/html": [
       "<div>\n",
       "<style scoped>\n",
       "    .dataframe tbody tr th:only-of-type {\n",
       "        vertical-align: middle;\n",
       "    }\n",
       "\n",
       "    .dataframe tbody tr th {\n",
       "        vertical-align: top;\n",
       "    }\n",
       "\n",
       "    .dataframe thead th {\n",
       "        text-align: right;\n",
       "    }\n",
       "</style>\n",
       "<table border=\"1\" class=\"dataframe\">\n",
       "  <thead>\n",
       "    <tr style=\"text-align: right;\">\n",
       "      <th></th>\n",
       "      <th>Age</th>\n",
       "      <th>Sex</th>\n",
       "      <th>HighChol</th>\n",
       "      <th>CholCheck</th>\n",
       "      <th>BMI</th>\n",
       "      <th>Smoker</th>\n",
       "      <th>HeartDiseaseorAttack</th>\n",
       "      <th>PhysActivity</th>\n",
       "      <th>Fruits</th>\n",
       "      <th>Veggies</th>\n",
       "      <th>HvyAlcoholConsump</th>\n",
       "      <th>GenHlth</th>\n",
       "      <th>MentHlth</th>\n",
       "      <th>PhysHlth</th>\n",
       "      <th>DiffWalk</th>\n",
       "      <th>Stroke</th>\n",
       "      <th>HighBP</th>\n",
       "      <th>Diabetes</th>\n",
       "    </tr>\n",
       "  </thead>\n",
       "  <tbody>\n",
       "    <tr>\n",
       "      <th>70682</th>\n",
       "      <td>9.0</td>\n",
       "      <td>0.0</td>\n",
       "      <td>0.0</td>\n",
       "      <td>1.0</td>\n",
       "      <td>37.0</td>\n",
       "      <td>0.0</td>\n",
       "      <td>0.0</td>\n",
       "      <td>0.0</td>\n",
       "      <td>0.0</td>\n",
       "      <td>0.0</td>\n",
       "      <td>0.0</td>\n",
       "      <td>4.0</td>\n",
       "      <td>0.0</td>\n",
       "      <td>30.0</td>\n",
       "      <td>1.0</td>\n",
       "      <td>0.0</td>\n",
       "      <td>1.0</td>\n",
       "      <td>1.0</td>\n",
       "    </tr>\n",
       "    <tr>\n",
       "      <th>70683</th>\n",
       "      <td>10.0</td>\n",
       "      <td>0.0</td>\n",
       "      <td>0.0</td>\n",
       "      <td>1.0</td>\n",
       "      <td>28.0</td>\n",
       "      <td>0.0</td>\n",
       "      <td>0.0</td>\n",
       "      <td>0.0</td>\n",
       "      <td>0.0</td>\n",
       "      <td>1.0</td>\n",
       "      <td>0.0</td>\n",
       "      <td>2.0</td>\n",
       "      <td>0.0</td>\n",
       "      <td>0.0</td>\n",
       "      <td>0.0</td>\n",
       "      <td>0.0</td>\n",
       "      <td>1.0</td>\n",
       "      <td>1.0</td>\n",
       "    </tr>\n",
       "    <tr>\n",
       "      <th>70684</th>\n",
       "      <td>9.0</td>\n",
       "      <td>1.0</td>\n",
       "      <td>1.0</td>\n",
       "      <td>1.0</td>\n",
       "      <td>27.0</td>\n",
       "      <td>0.0</td>\n",
       "      <td>1.0</td>\n",
       "      <td>1.0</td>\n",
       "      <td>0.0</td>\n",
       "      <td>1.0</td>\n",
       "      <td>0.0</td>\n",
       "      <td>4.0</td>\n",
       "      <td>30.0</td>\n",
       "      <td>5.0</td>\n",
       "      <td>0.0</td>\n",
       "      <td>0.0</td>\n",
       "      <td>1.0</td>\n",
       "      <td>1.0</td>\n",
       "    </tr>\n",
       "    <tr>\n",
       "      <th>70685</th>\n",
       "      <td>7.0</td>\n",
       "      <td>0.0</td>\n",
       "      <td>0.0</td>\n",
       "      <td>1.0</td>\n",
       "      <td>38.0</td>\n",
       "      <td>0.0</td>\n",
       "      <td>0.0</td>\n",
       "      <td>1.0</td>\n",
       "      <td>0.0</td>\n",
       "      <td>1.0</td>\n",
       "      <td>0.0</td>\n",
       "      <td>4.0</td>\n",
       "      <td>0.0</td>\n",
       "      <td>0.0</td>\n",
       "      <td>0.0</td>\n",
       "      <td>0.0</td>\n",
       "      <td>1.0</td>\n",
       "      <td>1.0</td>\n",
       "    </tr>\n",
       "    <tr>\n",
       "      <th>70686</th>\n",
       "      <td>11.0</td>\n",
       "      <td>1.0</td>\n",
       "      <td>1.0</td>\n",
       "      <td>1.0</td>\n",
       "      <td>27.0</td>\n",
       "      <td>0.0</td>\n",
       "      <td>0.0</td>\n",
       "      <td>1.0</td>\n",
       "      <td>1.0</td>\n",
       "      <td>0.0</td>\n",
       "      <td>0.0</td>\n",
       "      <td>4.0</td>\n",
       "      <td>0.0</td>\n",
       "      <td>30.0</td>\n",
       "      <td>0.0</td>\n",
       "      <td>0.0</td>\n",
       "      <td>0.0</td>\n",
       "      <td>1.0</td>\n",
       "    </tr>\n",
       "    <tr>\n",
       "      <th>70687</th>\n",
       "      <td>6.0</td>\n",
       "      <td>0.0</td>\n",
       "      <td>1.0</td>\n",
       "      <td>1.0</td>\n",
       "      <td>37.0</td>\n",
       "      <td>0.0</td>\n",
       "      <td>0.0</td>\n",
       "      <td>0.0</td>\n",
       "      <td>0.0</td>\n",
       "      <td>1.0</td>\n",
       "      <td>0.0</td>\n",
       "      <td>4.0</td>\n",
       "      <td>0.0</td>\n",
       "      <td>0.0</td>\n",
       "      <td>0.0</td>\n",
       "      <td>0.0</td>\n",
       "      <td>0.0</td>\n",
       "      <td>1.0</td>\n",
       "    </tr>\n",
       "    <tr>\n",
       "      <th>70688</th>\n",
       "      <td>10.0</td>\n",
       "      <td>1.0</td>\n",
       "      <td>1.0</td>\n",
       "      <td>1.0</td>\n",
       "      <td>29.0</td>\n",
       "      <td>1.0</td>\n",
       "      <td>1.0</td>\n",
       "      <td>0.0</td>\n",
       "      <td>1.0</td>\n",
       "      <td>1.0</td>\n",
       "      <td>0.0</td>\n",
       "      <td>2.0</td>\n",
       "      <td>0.0</td>\n",
       "      <td>0.0</td>\n",
       "      <td>1.0</td>\n",
       "      <td>0.0</td>\n",
       "      <td>0.0</td>\n",
       "      <td>1.0</td>\n",
       "    </tr>\n",
       "    <tr>\n",
       "      <th>70689</th>\n",
       "      <td>13.0</td>\n",
       "      <td>0.0</td>\n",
       "      <td>1.0</td>\n",
       "      <td>1.0</td>\n",
       "      <td>25.0</td>\n",
       "      <td>0.0</td>\n",
       "      <td>1.0</td>\n",
       "      <td>0.0</td>\n",
       "      <td>1.0</td>\n",
       "      <td>0.0</td>\n",
       "      <td>0.0</td>\n",
       "      <td>5.0</td>\n",
       "      <td>15.0</td>\n",
       "      <td>0.0</td>\n",
       "      <td>1.0</td>\n",
       "      <td>0.0</td>\n",
       "      <td>1.0</td>\n",
       "      <td>1.0</td>\n",
       "    </tr>\n",
       "    <tr>\n",
       "      <th>70690</th>\n",
       "      <td>11.0</td>\n",
       "      <td>0.0</td>\n",
       "      <td>1.0</td>\n",
       "      <td>1.0</td>\n",
       "      <td>18.0</td>\n",
       "      <td>0.0</td>\n",
       "      <td>0.0</td>\n",
       "      <td>0.0</td>\n",
       "      <td>0.0</td>\n",
       "      <td>0.0</td>\n",
       "      <td>0.0</td>\n",
       "      <td>4.0</td>\n",
       "      <td>0.0</td>\n",
       "      <td>0.0</td>\n",
       "      <td>1.0</td>\n",
       "      <td>0.0</td>\n",
       "      <td>1.0</td>\n",
       "      <td>1.0</td>\n",
       "    </tr>\n",
       "    <tr>\n",
       "      <th>70691</th>\n",
       "      <td>9.0</td>\n",
       "      <td>0.0</td>\n",
       "      <td>1.0</td>\n",
       "      <td>1.0</td>\n",
       "      <td>25.0</td>\n",
       "      <td>0.0</td>\n",
       "      <td>1.0</td>\n",
       "      <td>1.0</td>\n",
       "      <td>1.0</td>\n",
       "      <td>0.0</td>\n",
       "      <td>0.0</td>\n",
       "      <td>2.0</td>\n",
       "      <td>0.0</td>\n",
       "      <td>0.0</td>\n",
       "      <td>0.0</td>\n",
       "      <td>0.0</td>\n",
       "      <td>1.0</td>\n",
       "      <td>1.0</td>\n",
       "    </tr>\n",
       "  </tbody>\n",
       "</table>\n",
       "</div>"
      ],
      "text/plain": [
       "        Age  Sex  HighChol  CholCheck   BMI  Smoker  HeartDiseaseorAttack  \\\n",
       "70682   9.0  0.0       0.0        1.0  37.0     0.0                   0.0   \n",
       "70683  10.0  0.0       0.0        1.0  28.0     0.0                   0.0   \n",
       "70684   9.0  1.0       1.0        1.0  27.0     0.0                   1.0   \n",
       "70685   7.0  0.0       0.0        1.0  38.0     0.0                   0.0   \n",
       "70686  11.0  1.0       1.0        1.0  27.0     0.0                   0.0   \n",
       "70687   6.0  0.0       1.0        1.0  37.0     0.0                   0.0   \n",
       "70688  10.0  1.0       1.0        1.0  29.0     1.0                   1.0   \n",
       "70689  13.0  0.0       1.0        1.0  25.0     0.0                   1.0   \n",
       "70690  11.0  0.0       1.0        1.0  18.0     0.0                   0.0   \n",
       "70691   9.0  0.0       1.0        1.0  25.0     0.0                   1.0   \n",
       "\n",
       "       PhysActivity  Fruits  Veggies  HvyAlcoholConsump  GenHlth  MentHlth  \\\n",
       "70682           0.0     0.0      0.0                0.0      4.0       0.0   \n",
       "70683           0.0     0.0      1.0                0.0      2.0       0.0   \n",
       "70684           1.0     0.0      1.0                0.0      4.0      30.0   \n",
       "70685           1.0     0.0      1.0                0.0      4.0       0.0   \n",
       "70686           1.0     1.0      0.0                0.0      4.0       0.0   \n",
       "70687           0.0     0.0      1.0                0.0      4.0       0.0   \n",
       "70688           0.0     1.0      1.0                0.0      2.0       0.0   \n",
       "70689           0.0     1.0      0.0                0.0      5.0      15.0   \n",
       "70690           0.0     0.0      0.0                0.0      4.0       0.0   \n",
       "70691           1.0     1.0      0.0                0.0      2.0       0.0   \n",
       "\n",
       "       PhysHlth  DiffWalk  Stroke  HighBP  Diabetes  \n",
       "70682      30.0       1.0     0.0     1.0       1.0  \n",
       "70683       0.0       0.0     0.0     1.0       1.0  \n",
       "70684       5.0       0.0     0.0     1.0       1.0  \n",
       "70685       0.0       0.0     0.0     1.0       1.0  \n",
       "70686      30.0       0.0     0.0     0.0       1.0  \n",
       "70687       0.0       0.0     0.0     0.0       1.0  \n",
       "70688       0.0       1.0     0.0     0.0       1.0  \n",
       "70689       0.0       1.0     0.0     1.0       1.0  \n",
       "70690       0.0       1.0     0.0     1.0       1.0  \n",
       "70691       0.0       0.0     0.0     1.0       1.0  "
      ]
     },
     "execution_count": 3,
     "metadata": {},
     "output_type": "execute_result"
    }
   ],
   "source": [
    "# Displays the last 10 data\n",
    "dataset.tail(10)"
   ]
  },
  {
   "cell_type": "code",
   "execution_count": 6,
   "metadata": {},
   "outputs": [
    {
     "data": {
      "text/plain": [
       "(70692, 18)"
      ]
     },
     "execution_count": 6,
     "metadata": {},
     "output_type": "execute_result"
    }
   ],
   "source": [
    "# Displays the number of data and columns\n",
    "dataset.shape"
   ]
  },
  {
   "cell_type": "code",
   "execution_count": 5,
   "metadata": {},
   "outputs": [
    {
     "name": "stdout",
     "output_type": "stream",
     "text": [
      "<class 'pandas.core.frame.DataFrame'>\n",
      "RangeIndex: 70692 entries, 0 to 70691\n",
      "Data columns (total 18 columns):\n",
      " #   Column                Non-Null Count  Dtype  \n",
      "---  ------                --------------  -----  \n",
      " 0   Age                   70692 non-null  float64\n",
      " 1   Sex                   70692 non-null  float64\n",
      " 2   HighChol              70692 non-null  float64\n",
      " 3   CholCheck             70692 non-null  float64\n",
      " 4   BMI                   70692 non-null  float64\n",
      " 5   Smoker                70692 non-null  float64\n",
      " 6   HeartDiseaseorAttack  70692 non-null  float64\n",
      " 7   PhysActivity          70692 non-null  float64\n",
      " 8   Fruits                70692 non-null  float64\n",
      " 9   Veggies               70692 non-null  float64\n",
      " 10  HvyAlcoholConsump     70692 non-null  float64\n",
      " 11  GenHlth               70692 non-null  float64\n",
      " 12  MentHlth              70692 non-null  float64\n",
      " 13  PhysHlth              70692 non-null  float64\n",
      " 14  DiffWalk              70692 non-null  float64\n",
      " 15  Stroke                70692 non-null  float64\n",
      " 16  HighBP                70692 non-null  float64\n",
      " 17  Diabetes              70692 non-null  float64\n",
      "dtypes: float64(18)\n",
      "memory usage: 9.7 MB\n"
     ]
    }
   ],
   "source": [
    "# Displays dataset information\n",
    "dataset.info()"
   ]
  },
  {
   "cell_type": "code",
   "execution_count": 6,
   "metadata": {},
   "outputs": [
    {
     "data": {
      "text/html": [
       "<div>\n",
       "<style scoped>\n",
       "    .dataframe tbody tr th:only-of-type {\n",
       "        vertical-align: middle;\n",
       "    }\n",
       "\n",
       "    .dataframe tbody tr th {\n",
       "        vertical-align: top;\n",
       "    }\n",
       "\n",
       "    .dataframe thead th {\n",
       "        text-align: right;\n",
       "    }\n",
       "</style>\n",
       "<table border=\"1\" class=\"dataframe\">\n",
       "  <thead>\n",
       "    <tr style=\"text-align: right;\">\n",
       "      <th></th>\n",
       "      <th>count</th>\n",
       "      <th>mean</th>\n",
       "      <th>std</th>\n",
       "      <th>min</th>\n",
       "      <th>25%</th>\n",
       "      <th>50%</th>\n",
       "      <th>75%</th>\n",
       "      <th>max</th>\n",
       "    </tr>\n",
       "  </thead>\n",
       "  <tbody>\n",
       "    <tr>\n",
       "      <th>Age</th>\n",
       "      <td>70692.0</td>\n",
       "      <td>8.584055</td>\n",
       "      <td>2.852153</td>\n",
       "      <td>1.0</td>\n",
       "      <td>7.0</td>\n",
       "      <td>9.0</td>\n",
       "      <td>11.0</td>\n",
       "      <td>13.0</td>\n",
       "    </tr>\n",
       "    <tr>\n",
       "      <th>Sex</th>\n",
       "      <td>70692.0</td>\n",
       "      <td>0.456997</td>\n",
       "      <td>0.498151</td>\n",
       "      <td>0.0</td>\n",
       "      <td>0.0</td>\n",
       "      <td>0.0</td>\n",
       "      <td>1.0</td>\n",
       "      <td>1.0</td>\n",
       "    </tr>\n",
       "    <tr>\n",
       "      <th>HighChol</th>\n",
       "      <td>70692.0</td>\n",
       "      <td>0.525703</td>\n",
       "      <td>0.499342</td>\n",
       "      <td>0.0</td>\n",
       "      <td>0.0</td>\n",
       "      <td>1.0</td>\n",
       "      <td>1.0</td>\n",
       "      <td>1.0</td>\n",
       "    </tr>\n",
       "    <tr>\n",
       "      <th>CholCheck</th>\n",
       "      <td>70692.0</td>\n",
       "      <td>0.975259</td>\n",
       "      <td>0.155336</td>\n",
       "      <td>0.0</td>\n",
       "      <td>1.0</td>\n",
       "      <td>1.0</td>\n",
       "      <td>1.0</td>\n",
       "      <td>1.0</td>\n",
       "    </tr>\n",
       "    <tr>\n",
       "      <th>BMI</th>\n",
       "      <td>70692.0</td>\n",
       "      <td>29.856985</td>\n",
       "      <td>7.113954</td>\n",
       "      <td>12.0</td>\n",
       "      <td>25.0</td>\n",
       "      <td>29.0</td>\n",
       "      <td>33.0</td>\n",
       "      <td>98.0</td>\n",
       "    </tr>\n",
       "    <tr>\n",
       "      <th>Smoker</th>\n",
       "      <td>70692.0</td>\n",
       "      <td>0.475273</td>\n",
       "      <td>0.499392</td>\n",
       "      <td>0.0</td>\n",
       "      <td>0.0</td>\n",
       "      <td>0.0</td>\n",
       "      <td>1.0</td>\n",
       "      <td>1.0</td>\n",
       "    </tr>\n",
       "    <tr>\n",
       "      <th>HeartDiseaseorAttack</th>\n",
       "      <td>70692.0</td>\n",
       "      <td>0.147810</td>\n",
       "      <td>0.354914</td>\n",
       "      <td>0.0</td>\n",
       "      <td>0.0</td>\n",
       "      <td>0.0</td>\n",
       "      <td>0.0</td>\n",
       "      <td>1.0</td>\n",
       "    </tr>\n",
       "    <tr>\n",
       "      <th>PhysActivity</th>\n",
       "      <td>70692.0</td>\n",
       "      <td>0.703036</td>\n",
       "      <td>0.456924</td>\n",
       "      <td>0.0</td>\n",
       "      <td>0.0</td>\n",
       "      <td>1.0</td>\n",
       "      <td>1.0</td>\n",
       "      <td>1.0</td>\n",
       "    </tr>\n",
       "    <tr>\n",
       "      <th>Fruits</th>\n",
       "      <td>70692.0</td>\n",
       "      <td>0.611795</td>\n",
       "      <td>0.487345</td>\n",
       "      <td>0.0</td>\n",
       "      <td>0.0</td>\n",
       "      <td>1.0</td>\n",
       "      <td>1.0</td>\n",
       "      <td>1.0</td>\n",
       "    </tr>\n",
       "    <tr>\n",
       "      <th>Veggies</th>\n",
       "      <td>70692.0</td>\n",
       "      <td>0.788774</td>\n",
       "      <td>0.408181</td>\n",
       "      <td>0.0</td>\n",
       "      <td>1.0</td>\n",
       "      <td>1.0</td>\n",
       "      <td>1.0</td>\n",
       "      <td>1.0</td>\n",
       "    </tr>\n",
       "    <tr>\n",
       "      <th>HvyAlcoholConsump</th>\n",
       "      <td>70692.0</td>\n",
       "      <td>0.042721</td>\n",
       "      <td>0.202228</td>\n",
       "      <td>0.0</td>\n",
       "      <td>0.0</td>\n",
       "      <td>0.0</td>\n",
       "      <td>0.0</td>\n",
       "      <td>1.0</td>\n",
       "    </tr>\n",
       "    <tr>\n",
       "      <th>GenHlth</th>\n",
       "      <td>70692.0</td>\n",
       "      <td>2.837082</td>\n",
       "      <td>1.113565</td>\n",
       "      <td>1.0</td>\n",
       "      <td>2.0</td>\n",
       "      <td>3.0</td>\n",
       "      <td>4.0</td>\n",
       "      <td>5.0</td>\n",
       "    </tr>\n",
       "    <tr>\n",
       "      <th>MentHlth</th>\n",
       "      <td>70692.0</td>\n",
       "      <td>3.752037</td>\n",
       "      <td>8.155627</td>\n",
       "      <td>0.0</td>\n",
       "      <td>0.0</td>\n",
       "      <td>0.0</td>\n",
       "      <td>2.0</td>\n",
       "      <td>30.0</td>\n",
       "    </tr>\n",
       "    <tr>\n",
       "      <th>PhysHlth</th>\n",
       "      <td>70692.0</td>\n",
       "      <td>5.810417</td>\n",
       "      <td>10.062261</td>\n",
       "      <td>0.0</td>\n",
       "      <td>0.0</td>\n",
       "      <td>0.0</td>\n",
       "      <td>6.0</td>\n",
       "      <td>30.0</td>\n",
       "    </tr>\n",
       "    <tr>\n",
       "      <th>DiffWalk</th>\n",
       "      <td>70692.0</td>\n",
       "      <td>0.252730</td>\n",
       "      <td>0.434581</td>\n",
       "      <td>0.0</td>\n",
       "      <td>0.0</td>\n",
       "      <td>0.0</td>\n",
       "      <td>1.0</td>\n",
       "      <td>1.0</td>\n",
       "    </tr>\n",
       "    <tr>\n",
       "      <th>Stroke</th>\n",
       "      <td>70692.0</td>\n",
       "      <td>0.062171</td>\n",
       "      <td>0.241468</td>\n",
       "      <td>0.0</td>\n",
       "      <td>0.0</td>\n",
       "      <td>0.0</td>\n",
       "      <td>0.0</td>\n",
       "      <td>1.0</td>\n",
       "    </tr>\n",
       "    <tr>\n",
       "      <th>HighBP</th>\n",
       "      <td>70692.0</td>\n",
       "      <td>0.563458</td>\n",
       "      <td>0.495960</td>\n",
       "      <td>0.0</td>\n",
       "      <td>0.0</td>\n",
       "      <td>1.0</td>\n",
       "      <td>1.0</td>\n",
       "      <td>1.0</td>\n",
       "    </tr>\n",
       "    <tr>\n",
       "      <th>Diabetes</th>\n",
       "      <td>70692.0</td>\n",
       "      <td>0.500000</td>\n",
       "      <td>0.500004</td>\n",
       "      <td>0.0</td>\n",
       "      <td>0.0</td>\n",
       "      <td>0.5</td>\n",
       "      <td>1.0</td>\n",
       "      <td>1.0</td>\n",
       "    </tr>\n",
       "  </tbody>\n",
       "</table>\n",
       "</div>"
      ],
      "text/plain": [
       "                        count       mean        std   min   25%   50%   75%  \\\n",
       "Age                   70692.0   8.584055   2.852153   1.0   7.0   9.0  11.0   \n",
       "Sex                   70692.0   0.456997   0.498151   0.0   0.0   0.0   1.0   \n",
       "HighChol              70692.0   0.525703   0.499342   0.0   0.0   1.0   1.0   \n",
       "CholCheck             70692.0   0.975259   0.155336   0.0   1.0   1.0   1.0   \n",
       "BMI                   70692.0  29.856985   7.113954  12.0  25.0  29.0  33.0   \n",
       "Smoker                70692.0   0.475273   0.499392   0.0   0.0   0.0   1.0   \n",
       "HeartDiseaseorAttack  70692.0   0.147810   0.354914   0.0   0.0   0.0   0.0   \n",
       "PhysActivity          70692.0   0.703036   0.456924   0.0   0.0   1.0   1.0   \n",
       "Fruits                70692.0   0.611795   0.487345   0.0   0.0   1.0   1.0   \n",
       "Veggies               70692.0   0.788774   0.408181   0.0   1.0   1.0   1.0   \n",
       "HvyAlcoholConsump     70692.0   0.042721   0.202228   0.0   0.0   0.0   0.0   \n",
       "GenHlth               70692.0   2.837082   1.113565   1.0   2.0   3.0   4.0   \n",
       "MentHlth              70692.0   3.752037   8.155627   0.0   0.0   0.0   2.0   \n",
       "PhysHlth              70692.0   5.810417  10.062261   0.0   0.0   0.0   6.0   \n",
       "DiffWalk              70692.0   0.252730   0.434581   0.0   0.0   0.0   1.0   \n",
       "Stroke                70692.0   0.062171   0.241468   0.0   0.0   0.0   0.0   \n",
       "HighBP                70692.0   0.563458   0.495960   0.0   0.0   1.0   1.0   \n",
       "Diabetes              70692.0   0.500000   0.500004   0.0   0.0   0.5   1.0   \n",
       "\n",
       "                       max  \n",
       "Age                   13.0  \n",
       "Sex                    1.0  \n",
       "HighChol               1.0  \n",
       "CholCheck              1.0  \n",
       "BMI                   98.0  \n",
       "Smoker                 1.0  \n",
       "HeartDiseaseorAttack   1.0  \n",
       "PhysActivity           1.0  \n",
       "Fruits                 1.0  \n",
       "Veggies                1.0  \n",
       "HvyAlcoholConsump      1.0  \n",
       "GenHlth                5.0  \n",
       "MentHlth              30.0  \n",
       "PhysHlth              30.0  \n",
       "DiffWalk               1.0  \n",
       "Stroke                 1.0  \n",
       "HighBP                 1.0  \n",
       "Diabetes               1.0  "
      ]
     },
     "execution_count": 6,
     "metadata": {},
     "output_type": "execute_result"
    }
   ],
   "source": [
    "# Displays the dataset description\n",
    "dataset.describe().T"
   ]
  },
  {
   "cell_type": "markdown",
   "metadata": {},
   "source": [
    "In this dataset, there are:\n",
    "- 70692 rows of data,\n",
    "- 18 columns of float type\n"
   ]
  },
  {
   "cell_type": "markdown",
   "metadata": {},
   "source": [
    "# **C. Data Cleaning**"
   ]
  },
  {
   "cell_type": "markdown",
   "metadata": {},
   "source": [
    "At the data cleaning stage, the following will be carried out:\n",
    "- Check and handle duplicate data\n",
    "- Check for zero funds\n",
    "- Re-encode\n",
    "- Changing data types\n",
    "- Save data that has been cleaned"
   ]
  },
  {
   "cell_type": "code",
   "execution_count": 3,
   "metadata": {},
   "outputs": [],
   "source": [
    "# Duplicate the dataset\n",
    "dataCleaning = dataset.copy()"
   ]
  },
  {
   "cell_type": "code",
   "execution_count": 4,
   "metadata": {},
   "outputs": [
    {
     "data": {
      "text/plain": [
       "6672"
      ]
     },
     "execution_count": 4,
     "metadata": {},
     "output_type": "execute_result"
    }
   ],
   "source": [
    "# Cek duplikat data\n",
    "dataCleaning.duplicated().sum()"
   ]
  },
  {
   "cell_type": "code",
   "execution_count": 5,
   "metadata": {},
   "outputs": [],
   "source": [
    "# Handle data duplikat\n",
    "dataCleaning = dataCleaning.drop_duplicates()"
   ]
  },
  {
   "cell_type": "code",
   "execution_count": 6,
   "metadata": {},
   "outputs": [
    {
     "data": {
      "text/plain": [
       "0"
      ]
     },
     "execution_count": 6,
     "metadata": {},
     "output_type": "execute_result"
    }
   ],
   "source": [
    "# Cek duplikat data\n",
    "dataCleaning.duplicated().sum()"
   ]
  },
  {
   "cell_type": "code",
   "execution_count": 7,
   "metadata": {},
   "outputs": [
    {
     "data": {
      "text/plain": [
       "Age                     0\n",
       "Sex                     0\n",
       "HighChol                0\n",
       "CholCheck               0\n",
       "BMI                     0\n",
       "Smoker                  0\n",
       "HeartDiseaseorAttack    0\n",
       "PhysActivity            0\n",
       "Fruits                  0\n",
       "Veggies                 0\n",
       "HvyAlcoholConsump       0\n",
       "GenHlth                 0\n",
       "MentHlth                0\n",
       "PhysHlth                0\n",
       "DiffWalk                0\n",
       "Stroke                  0\n",
       "HighBP                  0\n",
       "Diabetes                0\n",
       "dtype: int64"
      ]
     },
     "execution_count": 7,
     "metadata": {},
     "output_type": "execute_result"
    }
   ],
   "source": [
    "# Cek data null\n",
    "dataCleaning.isna().sum()"
   ]
  },
  {
   "cell_type": "code",
   "execution_count": 8,
   "metadata": {},
   "outputs": [],
   "source": [
    "# reencode\n",
    "dataCleaning['Sex'] = dataCleaning['Sex'].map({0:'female', 1:'male'})\n",
    "dataCleaning['HighChol'] = dataCleaning['HighChol'].map({0:'no high', 1:'high'})\n",
    "dataCleaning['CholCheck'] = dataCleaning['CholCheck'].map({0:'no', 1:'yes'})\n",
    "dataCleaning['Smoker'] = dataCleaning['Smoker'].map({0:'no', 1:'yes'})\n",
    "dataCleaning['HeartDiseaseorAttack'] = dataCleaning['HeartDiseaseorAttack'].map({0:'no', 1:'yes'})\n",
    "dataCleaning['PhysActivity'] = dataCleaning['PhysActivity'].map({0:'no', 1:'yes'})\n",
    "dataCleaning['Fruits'] = dataCleaning['Fruits'].map({0:'no', 1:'yes'})\n",
    "dataCleaning['Veggies'] = dataCleaning['Veggies'].map({0:'no', 1:'yes'})\n",
    "dataCleaning['HvyAlcoholConsump'] = dataCleaning['HvyAlcoholConsump'].map({0:'no', 1:'yes'})\n",
    "dataCleaning['GenHlth'] = dataCleaning['GenHlth'].map({1:'excellent ', 2:'very good',3:'good', 4:'fair', 5:'poor'})\n",
    "dataCleaning['DiffWalk'] = dataCleaning['DiffWalk'].map({0:'no', 1:'yes'})\n",
    "dataCleaning['Stroke'] = dataCleaning['Stroke'].map({0:'no', 1:'yes'})\n",
    "dataCleaning['HighBP'] = dataCleaning['HighBP'].map({0:'no high', 1:'high'})"
   ]
  },
  {
   "cell_type": "code",
   "execution_count": 9,
   "metadata": {},
   "outputs": [],
   "source": [
    "# change the data type\n",
    "dataCleaning['Age'] = dataCleaning['Age'].astype('int64')\n",
    "dataCleaning['BMI'] = dataCleaning['BMI'].astype('int64')\n",
    "dataCleaning['MentHlth'] = dataCleaning['MentHlth'].astype('int64')\n",
    "dataCleaning['PhysHlth'] = dataCleaning['PhysHlth'].astype('int64')\n",
    "dataCleaning['Diabetes'] = dataCleaning['Diabetes'].astype('int64')"
   ]
  },
  {
   "cell_type": "code",
   "execution_count": 10,
   "metadata": {},
   "outputs": [
    {
     "data": {
      "text/html": [
       "<div>\n",
       "<style scoped>\n",
       "    .dataframe tbody tr th:only-of-type {\n",
       "        vertical-align: middle;\n",
       "    }\n",
       "\n",
       "    .dataframe tbody tr th {\n",
       "        vertical-align: top;\n",
       "    }\n",
       "\n",
       "    .dataframe thead th {\n",
       "        text-align: right;\n",
       "    }\n",
       "</style>\n",
       "<table border=\"1\" class=\"dataframe\">\n",
       "  <thead>\n",
       "    <tr style=\"text-align: right;\">\n",
       "      <th></th>\n",
       "      <th>Age</th>\n",
       "      <th>Sex</th>\n",
       "      <th>HighChol</th>\n",
       "      <th>CholCheck</th>\n",
       "      <th>BMI</th>\n",
       "      <th>Smoker</th>\n",
       "      <th>HeartDiseaseorAttack</th>\n",
       "      <th>PhysActivity</th>\n",
       "      <th>Fruits</th>\n",
       "      <th>Veggies</th>\n",
       "      <th>HvyAlcoholConsump</th>\n",
       "      <th>GenHlth</th>\n",
       "      <th>MentHlth</th>\n",
       "      <th>PhysHlth</th>\n",
       "      <th>DiffWalk</th>\n",
       "      <th>Stroke</th>\n",
       "      <th>HighBP</th>\n",
       "      <th>Diabetes</th>\n",
       "    </tr>\n",
       "  </thead>\n",
       "  <tbody>\n",
       "    <tr>\n",
       "      <th>0</th>\n",
       "      <td>4</td>\n",
       "      <td>male</td>\n",
       "      <td>no high</td>\n",
       "      <td>yes</td>\n",
       "      <td>26</td>\n",
       "      <td>no</td>\n",
       "      <td>no</td>\n",
       "      <td>yes</td>\n",
       "      <td>no</td>\n",
       "      <td>yes</td>\n",
       "      <td>no</td>\n",
       "      <td>good</td>\n",
       "      <td>5</td>\n",
       "      <td>30</td>\n",
       "      <td>no</td>\n",
       "      <td>no</td>\n",
       "      <td>high</td>\n",
       "      <td>0</td>\n",
       "    </tr>\n",
       "    <tr>\n",
       "      <th>1</th>\n",
       "      <td>12</td>\n",
       "      <td>male</td>\n",
       "      <td>high</td>\n",
       "      <td>yes</td>\n",
       "      <td>26</td>\n",
       "      <td>yes</td>\n",
       "      <td>no</td>\n",
       "      <td>no</td>\n",
       "      <td>yes</td>\n",
       "      <td>no</td>\n",
       "      <td>no</td>\n",
       "      <td>good</td>\n",
       "      <td>0</td>\n",
       "      <td>0</td>\n",
       "      <td>no</td>\n",
       "      <td>yes</td>\n",
       "      <td>high</td>\n",
       "      <td>0</td>\n",
       "    </tr>\n",
       "    <tr>\n",
       "      <th>2</th>\n",
       "      <td>13</td>\n",
       "      <td>male</td>\n",
       "      <td>no high</td>\n",
       "      <td>yes</td>\n",
       "      <td>26</td>\n",
       "      <td>no</td>\n",
       "      <td>no</td>\n",
       "      <td>yes</td>\n",
       "      <td>yes</td>\n",
       "      <td>yes</td>\n",
       "      <td>no</td>\n",
       "      <td>excellent</td>\n",
       "      <td>0</td>\n",
       "      <td>10</td>\n",
       "      <td>no</td>\n",
       "      <td>no</td>\n",
       "      <td>no high</td>\n",
       "      <td>0</td>\n",
       "    </tr>\n",
       "    <tr>\n",
       "      <th>3</th>\n",
       "      <td>11</td>\n",
       "      <td>male</td>\n",
       "      <td>high</td>\n",
       "      <td>yes</td>\n",
       "      <td>28</td>\n",
       "      <td>yes</td>\n",
       "      <td>no</td>\n",
       "      <td>yes</td>\n",
       "      <td>yes</td>\n",
       "      <td>yes</td>\n",
       "      <td>no</td>\n",
       "      <td>good</td>\n",
       "      <td>0</td>\n",
       "      <td>3</td>\n",
       "      <td>no</td>\n",
       "      <td>no</td>\n",
       "      <td>high</td>\n",
       "      <td>0</td>\n",
       "    </tr>\n",
       "    <tr>\n",
       "      <th>4</th>\n",
       "      <td>8</td>\n",
       "      <td>female</td>\n",
       "      <td>no high</td>\n",
       "      <td>yes</td>\n",
       "      <td>29</td>\n",
       "      <td>yes</td>\n",
       "      <td>no</td>\n",
       "      <td>yes</td>\n",
       "      <td>yes</td>\n",
       "      <td>yes</td>\n",
       "      <td>no</td>\n",
       "      <td>very good</td>\n",
       "      <td>0</td>\n",
       "      <td>0</td>\n",
       "      <td>no</td>\n",
       "      <td>no</td>\n",
       "      <td>no high</td>\n",
       "      <td>0</td>\n",
       "    </tr>\n",
       "  </tbody>\n",
       "</table>\n",
       "</div>"
      ],
      "text/plain": [
       "   Age     Sex HighChol CholCheck  BMI Smoker HeartDiseaseorAttack  \\\n",
       "0    4    male  no high       yes   26     no                   no   \n",
       "1   12    male     high       yes   26    yes                   no   \n",
       "2   13    male  no high       yes   26     no                   no   \n",
       "3   11    male     high       yes   28    yes                   no   \n",
       "4    8  female  no high       yes   29    yes                   no   \n",
       "\n",
       "  PhysActivity Fruits Veggies HvyAlcoholConsump     GenHlth  MentHlth  \\\n",
       "0          yes     no     yes                no        good         5   \n",
       "1           no    yes      no                no        good         0   \n",
       "2          yes    yes     yes                no  excellent          0   \n",
       "3          yes    yes     yes                no        good         0   \n",
       "4          yes    yes     yes                no   very good         0   \n",
       "\n",
       "   PhysHlth DiffWalk Stroke   HighBP  Diabetes  \n",
       "0        30       no     no     high         0  \n",
       "1         0       no    yes     high         0  \n",
       "2        10       no     no  no high         0  \n",
       "3         3       no     no     high         0  \n",
       "4         0       no     no  no high         0  "
      ]
     },
     "execution_count": 10,
     "metadata": {},
     "output_type": "execute_result"
    }
   ],
   "source": [
    "dataCleaning.head()"
   ]
  },
  {
   "cell_type": "code",
   "execution_count": 11,
   "metadata": {},
   "outputs": [
    {
     "data": {
      "text/plain": [
       "(64020, 18)"
      ]
     },
     "execution_count": 11,
     "metadata": {},
     "output_type": "execute_result"
    }
   ],
   "source": [
    "dataCleaning.shape"
   ]
  },
  {
   "cell_type": "code",
   "execution_count": 14,
   "metadata": {},
   "outputs": [],
   "source": [
    "# Create CSV data from cleaned data\n",
    "dataCleaning.to_csv('diabetes_data_cleaning1.csv', index=False)"
   ]
  },
  {
   "cell_type": "markdown",
   "metadata": {},
   "source": [
    "- Duplicate data was found at index 6672 and was successfully handled by deleting it\n",
    "- No null data was found in this dataset\n",
    "- Re-encoding several columns\n",
    "- Changed the float data type to Integer\n",
    "- Total data after cleaning is 64020 data\n"
   ]
  },
  {
   "cell_type": "markdown",
   "metadata": {},
   "source": [
    "# **D. Exploratory Data Analysis (EDA)**"
   ]
  },
  {
   "cell_type": "code",
   "execution_count": 15,
   "metadata": {},
   "outputs": [],
   "source": [
    "#  Duplicates data\n",
    "dataEDA = dataCleaning.copy()"
   ]
  },
  {
   "cell_type": "markdown",
   "metadata": {},
   "source": [
    "## **1. Age Distribution**"
   ]
  },
  {
   "cell_type": "code",
   "execution_count": 23,
   "metadata": {},
   "outputs": [
    {
     "data": {
      "image/png": "[encoded data removed]",
      "text/plain": [
       "<Figure size 500x500 with 1 Axes>"
      ]
     },
     "metadata": {},
     "output_type": "display_data"
    }
   ],
   "source": [
    "# histogram chart\n",
    "dataEDA['Age'].hist(figsize=(5,5))\n",
    "plt.show()"
   ]
  },
  {
   "cell_type": "markdown",
   "metadata": {},
   "source": [
    "Insight:\n",
    "- The distribution in the Age column is highest in groups 7 and 8"
   ]
  },
  {
   "cell_type": "markdown",
   "metadata": {},
   "source": [
    "## **2. Distribution of Diabetes**"
   ]
  },
  {
   "cell_type": "code",
   "execution_count": 16,
   "metadata": {},
   "outputs": [
    {
     "data": {
      "image/png": "[encoded data removed]",
      "text/plain": [
       "<Figure size 400x400 with 1 Axes>"
      ]
     },
     "metadata": {},
     "output_type": "display_data"
    }
   ],
   "source": [
    "# pie chart\n",
    "fig,ax1 = plt.subplots(figsize=(4,4))\n",
    "dataEDA['Diabetes'].value_counts().plot(kind='pie',shadow=True, explode=(0,0.1), autopct='%.2f%%',ax=ax1, colors=['red', 'blue'])\n",
    "plt.title(\"Distribution of Diabetes\",fontsize=14, fontweight='bold') \n",
    "plt.legend(labels=['Diabetes','Non Diabetes'], title=\"Information\",  loc=\"center left\",bbox_to_anchor=(1, 0, 0.5, 1))\n",
    "plt.show()"
   ]
  },
  {
   "cell_type": "markdown",
   "metadata": {},
   "source": [
    "Insights:\n",
    "\n",
    "Based on the data, 52.17% of patients were diagnosed with diabetes and the remaining 47.83% were non-diabetic. This indicates that diabetes is a significant health problem in the observed patient population."
   ]
  },
  {
   "cell_type": "markdown",
   "metadata": {},
   "source": [
    "## **3. Age Range Pattern**"
   ]
  },
  {
   "cell_type": "code",
   "execution_count": 17,
   "metadata": {},
   "outputs": [
    {
     "data": {
      "image/png": "[encoded data removed]",
      "text/plain": [
       "<Figure size 2000x700 with 1 Axes>"
      ]
     },
     "metadata": {},
     "output_type": "display_data"
    }
   ],
   "source": [
    "# countplot\n",
    "fig = plt.subplots(figsize=(20,7))\n",
    "ax = sns.countplot(x='Age', hue='Diabetes', data=dataEDA, palette={0: 'blue', 1: 'red'}, linewidth=2.5)\n",
    "ax.bar_label(ax.containers[0])\n",
    "ax.bar_label(ax.containers[1])\n",
    "plt.legend(labels=['Non Diabetes','Diabetes'],title=\"Information\" )\n",
    "plt.title('Distribution of Diabetes Based on Age Range')\n",
    "plt.xlabel('Age')\n",
    "plt.ylabel('Count')\n",
    "plt.show()"
   ]
  },
  {
   "cell_type": "markdown",
   "metadata": {},
   "source": [
    "Insights:\n",
    "\n",
    "1. The prevalence of diabetes increases with age.\n",
    "   - The 65-69 year age group has the highest number of diabetes sufferers, followed by the 60-64 year and 70-74 year age groups.\n",
    "   - The 18-24 year age group has the lowest number of diabetes sufferers.\n",
    "\n",
    "2. The distribution of diabetes is uneven across all age groups.\n",
    "   - There is a significant increase in the number of diabetes sufferers in groups 1-10.\n",
    "   - There is a decrease in the number of diabetes sufferers in the 10-13 group.\n",
    "\n",
    "Conclusion:\n",
    "\n",
    "Diabetes is a serious disease that can affect all age groups, and prevention and treatment is needed at all age levels, with a focus on healthy lifestyles and public awareness."
   ]
  },
  {
   "cell_type": "markdown",
   "metadata": {},
   "source": [
    "## **4. Blood Pressure Pattern**"
   ]
  },
  {
   "cell_type": "code",
   "execution_count": 18,
   "metadata": {},
   "outputs": [
    {
     "data": {
      "image/png": "[encoded data removed]",
      "text/plain": [
       "<Figure size 2000x700 with 1 Axes>"
      ]
     },
     "metadata": {},
     "output_type": "display_data"
    }
   ],
   "source": [
    "# countplot\n",
    "fig = plt.subplots(figsize=(20,7))\n",
    "ax = sns.countplot(x='HighBP', hue='Diabetes', data=dataEDA, palette={0: 'blue', 1: 'red'}, linewidth=2.5)\n",
    "ax.bar_label(ax.containers[0])\n",
    "ax.bar_label(ax.containers[1])\n",
    "plt.legend(labels=['Non Diabetes','Diabetes'],title=\"Information\" )\n",
    "plt.title('Distribution of Diabetes Based on Blood Pressure')\n",
    "plt.xlabel('Age')\n",
    "plt.ylabel('Count')\n",
    "plt.show()"
   ]
  },
  {
   "cell_type": "markdown",
   "metadata": {},
   "source": [
    "Insights:\n",
    "\n",
    "1. People with high blood pressure are more at risk of developing diabetes.\n",
    "2. The number of people with diabetes who have high blood pressure is greater than those who do not have high blood pressure.\n",
    "3. High blood pressure is a significant risk factor for diabetes\n",
    "\n",
    "Conclusion:\n",
    "\n",
    "It is important to control blood pressure to reduce the risk of developing diabetes."
   ]
  },
  {
   "cell_type": "markdown",
   "metadata": {},
   "source": [
    "## **5. Health Pattern**"
   ]
  },
  {
   "cell_type": "code",
   "execution_count": 19,
   "metadata": {},
   "outputs": [
    {
     "data": {
      "image/png": "[encoded data removed]",
      "text/plain": [
       "<Figure size 2000x700 with 1 Axes>"
      ]
     },
     "metadata": {},
     "output_type": "display_data"
    }
   ],
   "source": [
    "# countplot\n",
    "fig = plt.subplots(figsize=(20,7))\n",
    "ax = sns.countplot(x='GenHlth', hue='Diabetes', data=dataEDA, palette={0: 'blue', 1: 'red'}, linewidth=2.5)\n",
    "ax.bar_label(ax.containers[0])\n",
    "ax.bar_label(ax.containers[1])\n",
    "plt.legend(labels=['Non Diabetes','Diabetes'],title=\"Information\" )\n",
    "plt.title('Diabetes Distribution Based on Health Patterns')\n",
    "plt.xlabel('General Health')\n",
    "plt.ylabel('Count')\n",
    "plt.show()"
   ]
  },
  {
   "cell_type": "markdown",
   "metadata": {},
   "source": [
    "Insights:\n",
    "\n",
    "1. The 'Excelent' group has the lowest proportion of diabetes sufferers, but also has the lowest number of all health pattern groups.\n",
    "\n",
    "2. The 'Good' group has the largest number of diabetes sufferers among all health pattern groups, but also includes a significant number of diabetes sufferers.\n",
    "\n",
    "3. The 'Poor' group has the highest proportion of diabetes sufferers compared to other health pattern groups.\n",
    "\n",
    "4. The 'Fair' group has a relatively high proportion of diabetes sufferers, but the number is smaller than the 'Good' group."
   ]
  },
  {
   "cell_type": "markdown",
   "metadata": {},
   "source": [
    "## **6. High Cholesterol Pattern**"
   ]
  },
  {
   "cell_type": "code",
   "execution_count": 20,
   "metadata": {},
   "outputs": [
    {
     "data": {
      "image/png": "[encoded data removed]",
      "text/plain": [
       "<Figure size 2000x700 with 1 Axes>"
      ]
     },
     "metadata": {},
     "output_type": "display_data"
    }
   ],
   "source": [
    "# countplot\n",
    "fig = plt.subplots(figsize=(20,7))\n",
    "ax = sns.countplot(x='HighChol', hue='Diabetes', data=dataEDA, palette={0: 'blue', 1: 'red'}, linewidth=2.5)\n",
    "ax.bar_label(ax.containers[0])\n",
    "ax.bar_label(ax.containers[1])\n",
    "plt.legend(labels=['Non Diabetes','Diabetes'],title=\"Information\" )\n",
    "plt.title('Diabetes Distribution Based on High Cholesterol')\n",
    "plt.xlabel('High Cholesterol')\n",
    "plt.ylabel('Count')\n",
    "plt.show()"
   ]
  },
  {
   "cell_type": "markdown",
   "metadata": {},
   "source": [
    "Insights:\n",
    "\n",
    "1. Patients with high cholesterol constitute the majority of the diabetic and non-diabetic groups.\n",
    "2. The proportion of diabetes sufferers is higher in people with high cholesterol than in people with low cholesterol.\n",
    "3. Although the number of diabetes sufferers is higher in the high cholesterol group, there are still a large number of patients without diabetes."
   ]
  },
  {
   "cell_type": "markdown",
   "metadata": {},
   "source": [
    "## **7. Heart Disease Patterns**"
   ]
  },
  {
   "cell_type": "code",
   "execution_count": 21,
   "metadata": {},
   "outputs": [
    {
     "data": {
      "image/png": "[encoded data removed]",
      "text/plain": [
       "<Figure size 2000x700 with 1 Axes>"
      ]
     },
     "metadata": {},
     "output_type": "display_data"
    }
   ],
   "source": [
    "# countplot\n",
    "fig = plt.subplots(figsize=(20,7))\n",
    "ax = sns.countplot(x='HeartDiseaseorAttack', hue='Diabetes', data=dataEDA, palette={0: 'blue', 1: 'red'}, linewidth=2.5)\n",
    "ax.bar_label(ax.containers[0])\n",
    "ax.bar_label(ax.containers[1])\n",
    "plt.legend(labels=['Non Diabetes','Diabetes'],title=\"Information\" )\n",
    "plt.title('Distribution of Diabetes Based on Heart Disease')\n",
    "plt.xlabel('Heart Diseaseor Attack')\n",
    "plt.ylabel('Count')\n",
    "plt.show()"
   ]
  },
  {
   "cell_type": "markdown",
   "metadata": {},
   "source": [
    "Insights:\n",
    "\n",
    "1. Patients who have never had a heart attack account for a significant number of both groups, both diabetics and non-diabetics.\n",
    "2. The proportion of patients with diabetes is higher among those who have had a heart attack compared to those who have never had a heart attack.\n",
    "3. Although the number of patients with diabetes was higher in the group who had experienced a heart attack, there was still a sizable number of those who did not have diabetes in this group."
   ]
  },
  {
   "cell_type": "markdown",
   "metadata": {},
   "source": [
    "## **8. Fruit Consumption Patterns**"
   ]
  },
  {
   "cell_type": "code",
   "execution_count": 22,
   "metadata": {},
   "outputs": [
    {
     "data": {
      "image/png": "[encoded data removed]",
      "text/plain": [
       "<Figure size 2000x700 with 1 Axes>"
      ]
     },
     "metadata": {},
     "output_type": "display_data"
    }
   ],
   "source": [
    "# countplot\n",
    "fig = plt.subplots(figsize=(20,7))\n",
    "ax = sns.countplot(x='Fruits', hue='Diabetes', data=dataEDA, palette={0: 'blue', 1: 'red'}, linewidth=2.5)\n",
    "ax.bar_label(ax.containers[0])\n",
    "ax.bar_label(ax.containers[1])\n",
    "plt.legend(labels=['Non Diabetes','Diabetes'],title=\"Information\" )\n",
    "plt.title('Diabetes Distribution Based on Fruit Consumption')\n",
    "plt.xlabel('Fruits')\n",
    "plt.ylabel('Count')\n",
    "plt.show()"
   ]
  },
  {
   "cell_type": "markdown",
   "metadata": {},
   "source": [
    "Insights:\n",
    "\n",
    "1. Patients who eat fruit are in significant numbers from both groups, both diabetics and non-diabetics.\n",
    "2. The proportion of patients with diabetes is higher among those who eat fruit compared to those who do not eat fruit.\n",
    "3. Although the number of patients with diabetes was higher in the group that ate fruit, there was still a sizable number of those who did not have diabetes in this group"
   ]
  },
  {
   "cell_type": "markdown",
   "metadata": {},
   "source": [
    "## **9. Vegetable Consumption Patterns**"
   ]
  },
  {
   "cell_type": "code",
   "execution_count": 23,
   "metadata": {},
   "outputs": [
    {
     "data": {
      "image/png": "[encoded data removed]",
      "text/plain": [
       "<Figure size 2000x700 with 1 Axes>"
      ]
     },
     "metadata": {},
     "output_type": "display_data"
    }
   ],
   "source": [
    "# Membuat countplot\n",
    "fig = plt.subplots(figsize=(20,7))\n",
    "ax = sns.countplot(x='Veggies', hue='Diabetes', data=dataEDA, palette={0: 'blue', 1: 'red'}, linewidth=2.5)\n",
    "ax.bar_label(ax.containers[0])\n",
    "ax.bar_label(ax.containers[1])\n",
    "plt.legend(labels=['Non Diabetes','Diabetes'],title=\"Information\" )\n",
    "plt.title('Distribution of Diabetes Based on Vegetable Consumption')\n",
    "plt.xlabel('Veggies')\n",
    "plt.ylabel('Count')\n",
    "plt.show()"
   ]
  },
  {
   "cell_type": "markdown",
   "metadata": {},
   "source": [
    "Insights:\n",
    "\n",
    "1. There are a significant number of patients who eat vegetables from both groups, both diabetics and non-diabetics.\n",
    "2. The proportion of patients with diabetes is higher among those who eat vegetables compared to those who do not eat vegetables.\n",
    "3. Although the number of patients with diabetes was higher in the group that ate vegetables, there was still a sizable number of those who did not have diabetes in this group."
   ]
  },
  {
   "cell_type": "markdown",
   "metadata": {},
   "source": [
    "## **10. Alcohol Consumption Patterns**"
   ]
  },
  {
   "cell_type": "code",
   "execution_count": 24,
   "metadata": {},
   "outputs": [
    {
     "data": {
      "image/png": "[encoded data removed]",
      "text/plain": [
       "<Figure size 2000x700 with 1 Axes>"
      ]
     },
     "metadata": {},
     "output_type": "display_data"
    }
   ],
   "source": [
    "# Membuat countplot\n",
    "fig = plt.subplots(figsize=(20,7))\n",
    "ax = sns.countplot(x='HvyAlcoholConsump', hue='Diabetes', data=dataEDA, palette={0: 'blue', 1: 'red'}, linewidth=2.5)\n",
    "ax.bar_label(ax.containers[0])\n",
    "ax.bar_label(ax.containers[1])\n",
    "plt.legend(labels=['Non Diabetes','Diabetes'],title=\"Information\" )\n",
    "plt.title('Diabetes Distribution Based on Alcohol Consumption')\n",
    "plt.xlabel('Alcohol Consump')\n",
    "plt.ylabel('Count')\n",
    "plt.show()"
   ]
  },
  {
   "cell_type": "markdown",
   "metadata": {},
   "source": [
    "Insights:\n",
    "\n",
    "1. Patients who do not consume alcohol constitute a significant number of both groups, both diabetics and non-diabetics.\n",
    "2. The proportion of patients with diabetes is higher among those who do not consume alcohol compared to those who consume alcohol.\n",
    "3. Although the number of patients with diabetes was higher in the group that did not consume alcohol, there was still a sizable number of those who consumed alcohol in this group."
   ]
  },
  {
   "cell_type": "markdown",
   "metadata": {},
   "source": [
    "# **E. Feature Engineering**"
   ]
  },
  {
   "cell_type": "code",
   "execution_count": 27,
   "metadata": {},
   "outputs": [],
   "source": [
    "# copy data\n",
    "dataModel = dataCleaning.copy()"
   ]
  },
  {
   "cell_type": "markdown",
   "metadata": {},
   "source": [
    "## **1. Handling Cardinality**"
   ]
  },
  {
   "cell_type": "markdown",
   "metadata": {},
   "source": [
    "Handling cardinality by:\n",
    "1. Check category columns that have a large number of unique values\n",
    "2. If there is, the column will be deleted"
   ]
  },
  {
   "cell_type": "code",
   "execution_count": 28,
   "metadata": {},
   "outputs": [
    {
     "data": {
      "text/html": [
       "<div>\n",
       "<style scoped>\n",
       "    .dataframe tbody tr th:only-of-type {\n",
       "        vertical-align: middle;\n",
       "    }\n",
       "\n",
       "    .dataframe tbody tr th {\n",
       "        vertical-align: top;\n",
       "    }\n",
       "\n",
       "    .dataframe thead th {\n",
       "        text-align: right;\n",
       "    }\n",
       "</style>\n",
       "<table border=\"1\" class=\"dataframe\">\n",
       "  <thead>\n",
       "    <tr style=\"text-align: right;\">\n",
       "      <th></th>\n",
       "      <th>nama kolom</th>\n",
       "      <th>jumlah nilai unique</th>\n",
       "    </tr>\n",
       "  </thead>\n",
       "  <tbody>\n",
       "    <tr>\n",
       "      <th>0</th>\n",
       "      <td>Age</td>\n",
       "      <td>13</td>\n",
       "    </tr>\n",
       "    <tr>\n",
       "      <th>1</th>\n",
       "      <td>Sex</td>\n",
       "      <td>2</td>\n",
       "    </tr>\n",
       "    <tr>\n",
       "      <th>2</th>\n",
       "      <td>HighChol</td>\n",
       "      <td>2</td>\n",
       "    </tr>\n",
       "    <tr>\n",
       "      <th>3</th>\n",
       "      <td>CholCheck</td>\n",
       "      <td>2</td>\n",
       "    </tr>\n",
       "    <tr>\n",
       "      <th>4</th>\n",
       "      <td>Smoker</td>\n",
       "      <td>2</td>\n",
       "    </tr>\n",
       "    <tr>\n",
       "      <th>5</th>\n",
       "      <td>HeartDiseaseorAttack</td>\n",
       "      <td>2</td>\n",
       "    </tr>\n",
       "    <tr>\n",
       "      <th>6</th>\n",
       "      <td>Fruits</td>\n",
       "      <td>2</td>\n",
       "    </tr>\n",
       "    <tr>\n",
       "      <th>7</th>\n",
       "      <td>Veggies</td>\n",
       "      <td>2</td>\n",
       "    </tr>\n",
       "    <tr>\n",
       "      <th>8</th>\n",
       "      <td>HvyAlcoholConsump</td>\n",
       "      <td>2</td>\n",
       "    </tr>\n",
       "    <tr>\n",
       "      <th>9</th>\n",
       "      <td>GenHlth</td>\n",
       "      <td>5</td>\n",
       "    </tr>\n",
       "    <tr>\n",
       "      <th>10</th>\n",
       "      <td>DiffWalk</td>\n",
       "      <td>2</td>\n",
       "    </tr>\n",
       "    <tr>\n",
       "      <th>11</th>\n",
       "      <td>Stroke</td>\n",
       "      <td>2</td>\n",
       "    </tr>\n",
       "    <tr>\n",
       "      <th>12</th>\n",
       "      <td>HighBP</td>\n",
       "      <td>2</td>\n",
       "    </tr>\n",
       "    <tr>\n",
       "      <th>13</th>\n",
       "      <td>Diabetes</td>\n",
       "      <td>2</td>\n",
       "    </tr>\n",
       "  </tbody>\n",
       "</table>\n",
       "</div>"
      ],
      "text/plain": [
       "              nama kolom  jumlah nilai unique\n",
       "0                    Age                   13\n",
       "1                    Sex                    2\n",
       "2               HighChol                    2\n",
       "3              CholCheck                    2\n",
       "4                 Smoker                    2\n",
       "5   HeartDiseaseorAttack                    2\n",
       "6                 Fruits                    2\n",
       "7                Veggies                    2\n",
       "8      HvyAlcoholConsump                    2\n",
       "9                GenHlth                    5\n",
       "10              DiffWalk                    2\n",
       "11                Stroke                    2\n",
       "12                HighBP                    2\n",
       "13              Diabetes                    2"
      ]
     },
     "execution_count": 28,
     "metadata": {},
     "output_type": "execute_result"
    }
   ],
   "source": [
    "# Storing object data \n",
    "cat_cols = list(dataModel[['Age','Sex', 'HighChol', 'CholCheck','Smoker', 'HeartDiseaseorAttack', \n",
    "                           'Fruits', 'Veggies','HvyAlcoholConsump', 'GenHlth','DiffWalk',\n",
    "                           'Stroke', 'HighBP', 'Diabetes']])\n",
    "\n",
    "# Displays a column of type object and its unique value\n",
    "listItem = []\n",
    "for col in cat_cols:\n",
    "  listItem.append([col, dataModel[col].nunique()])\n",
    "\n",
    "pd.DataFrame(columns=['nama kolom', 'jumlah nilai unique',], data=listItem)"
   ]
  },
  {
   "cell_type": "markdown",
   "metadata": {},
   "source": [
    "In this dataset, no columns with High Cardinality were found. After checking High Cardinality, a feature (X) and target (y) split will be carried out."
   ]
  },
  {
   "cell_type": "markdown",
   "metadata": {},
   "source": [
    "## **2. Split Feature and Target (X & y)**"
   ]
  },
  {
   "cell_type": "code",
   "execution_count": 29,
   "metadata": {},
   "outputs": [],
   "source": [
    "# Split feature (X) and target (y)\n",
    "X = dataModel.drop(['Diabetes'], axis = 1)\n",
    "y = dataModel['Diabetes']"
   ]
  },
  {
   "cell_type": "markdown",
   "metadata": {},
   "source": [
    "## **3. Split Train set dan Test Set**"
   ]
  },
  {
   "cell_type": "code",
   "execution_count": 30,
   "metadata": {},
   "outputs": [
    {
     "name": "stdout",
     "output_type": "stream",
     "text": [
      "Train Size:  (48015, 17)\n",
      "Test Size:  (16005, 17)\n"
     ]
    }
   ],
   "source": [
    "# Split train and test set\n",
    "X_train, X_test, y_train, y_test = train_test_split(X, y, test_size = 0.25, random_state = 24)\n",
    "print('Train Size: ', X_train.shape)\n",
    "print('Test Size: ', X_test.shape)"
   ]
  },
  {
   "cell_type": "markdown",
   "metadata": {},
   "source": [
    "## **4. Handling Missing Value**"
   ]
  },
  {
   "cell_type": "code",
   "execution_count": 31,
   "metadata": {},
   "outputs": [
    {
     "data": {
      "text/plain": [
       "Age                     0\n",
       "Sex                     0\n",
       "HighChol                0\n",
       "CholCheck               0\n",
       "BMI                     0\n",
       "Smoker                  0\n",
       "HeartDiseaseorAttack    0\n",
       "PhysActivity            0\n",
       "Fruits                  0\n",
       "Veggies                 0\n",
       "HvyAlcoholConsump       0\n",
       "GenHlth                 0\n",
       "MentHlth                0\n",
       "PhysHlth                0\n",
       "DiffWalk                0\n",
       "Stroke                  0\n",
       "HighBP                  0\n",
       "dtype: int64"
      ]
     },
     "execution_count": 31,
     "metadata": {},
     "output_type": "execute_result"
    }
   ],
   "source": [
    "# missing value check (Train set)\n",
    "X_train.isna().sum()"
   ]
  },
  {
   "cell_type": "code",
   "execution_count": 32,
   "metadata": {},
   "outputs": [
    {
     "data": {
      "text/plain": [
       "Age                     0\n",
       "Sex                     0\n",
       "HighChol                0\n",
       "CholCheck               0\n",
       "BMI                     0\n",
       "Smoker                  0\n",
       "HeartDiseaseorAttack    0\n",
       "PhysActivity            0\n",
       "Fruits                  0\n",
       "Veggies                 0\n",
       "HvyAlcoholConsump       0\n",
       "GenHlth                 0\n",
       "MentHlth                0\n",
       "PhysHlth                0\n",
       "DiffWalk                0\n",
       "Stroke                  0\n",
       "HighBP                  0\n",
       "dtype: int64"
      ]
     },
     "execution_count": 32,
     "metadata": {},
     "output_type": "execute_result"
    }
   ],
   "source": [
    "# missing value check (Test set)\n",
    "X_test.isna().sum()"
   ]
  },
  {
   "cell_type": "code",
   "execution_count": 33,
   "metadata": {},
   "outputs": [
    {
     "data": {
      "text/plain": [
       "0"
      ]
     },
     "execution_count": 33,
     "metadata": {},
     "output_type": "execute_result"
    }
   ],
   "source": [
    "y_train.isna().sum()"
   ]
  },
  {
   "cell_type": "code",
   "execution_count": 34,
   "metadata": {},
   "outputs": [
    {
     "data": {
      "text/plain": [
       "0"
      ]
     },
     "execution_count": 34,
     "metadata": {},
     "output_type": "execute_result"
    }
   ],
   "source": [
    "y_test.isna().sum()"
   ]
  },
  {
   "cell_type": "markdown",
   "metadata": {},
   "source": [
    "There are no missing values ​​in X_train, X_test, y_train and y_test"
   ]
  },
  {
   "cell_type": "markdown",
   "metadata": {},
   "source": [
    "## **5. Handling Outliers**"
   ]
  },
  {
   "cell_type": "markdown",
   "metadata": {},
   "source": [
    "Handling outliers by:\n",
    "1. Look at the distribution value in the numerical column\n",
    "2. If the value is -0.5 to 0.5 then it can be said that the distribution is normal and outliers will be handled using the Gaussian capping method from WinSorizer\n",
    "3. If the value is less than -0.5 and more than 0.5 then it can be said that the skew and outlier distribution will be handled using the IQR capping method from Winsorizer"
   ]
  },
  {
   "cell_type": "code",
   "execution_count": 35,
   "metadata": {},
   "outputs": [
    {
     "data": {
      "text/html": [
       "<div>\n",
       "<style scoped>\n",
       "    .dataframe tbody tr th:only-of-type {\n",
       "        vertical-align: middle;\n",
       "    }\n",
       "\n",
       "    .dataframe tbody tr th {\n",
       "        vertical-align: top;\n",
       "    }\n",
       "\n",
       "    .dataframe thead th {\n",
       "        text-align: right;\n",
       "    }\n",
       "</style>\n",
       "<table border=\"1\" class=\"dataframe\">\n",
       "  <thead>\n",
       "    <tr style=\"text-align: right;\">\n",
       "      <th></th>\n",
       "      <th>nama kolom</th>\n",
       "      <th>nilai skewness</th>\n",
       "      <th>distribusi</th>\n",
       "    </tr>\n",
       "  </thead>\n",
       "  <tbody>\n",
       "    <tr>\n",
       "      <th>0</th>\n",
       "      <td>BMI</td>\n",
       "      <td>1.669602</td>\n",
       "      <td>skew</td>\n",
       "    </tr>\n",
       "    <tr>\n",
       "      <th>1</th>\n",
       "      <td>MentHlth</td>\n",
       "      <td>2.224306</td>\n",
       "      <td>skew</td>\n",
       "    </tr>\n",
       "    <tr>\n",
       "      <th>2</th>\n",
       "      <td>PhysHlth</td>\n",
       "      <td>1.513020</td>\n",
       "      <td>skew</td>\n",
       "    </tr>\n",
       "  </tbody>\n",
       "</table>\n",
       "</div>"
      ],
      "text/plain": [
       "  nama kolom  nilai skewness distribusi\n",
       "0        BMI        1.669602       skew\n",
       "1   MentHlth        2.224306       skew\n",
       "2   PhysHlth        1.513020       skew"
      ]
     },
     "execution_count": 35,
     "metadata": {},
     "output_type": "execute_result"
    }
   ],
   "source": [
    "# Stores numeric data\n",
    "num_cols = list(X_train[['BMI','MentHlth','PhysHlth']].columns)\n",
    "\n",
    "# Displays numeric funds along with their distribution values\n",
    "lower_limit = -0.05\n",
    "upper_limit = 0.05\n",
    "listItem= []\n",
    "for col in num_cols:\n",
    "    skew = X[col].skew()\n",
    "    if lower_limit <= skew <= upper_limit:\n",
    "        ket = 'normal'\n",
    "    else :\n",
    "        ket = 'skew'\n",
    "    listItem.append([col, skew, ket])\n",
    "\n",
    "pd.DataFrame(columns=['nama kolom', 'nilai skewness', 'distribusi'], data= listItem)"
   ]
  },
  {
   "cell_type": "markdown",
   "metadata": {},
   "source": [
    "In this numeric type column, the entire column is a skew distribution\n",
    "\n",
    "**Action**\n",
    "- Outliers will be handled using the winsorizer module from the feature engine, because the entire column is a skew distribution, it will be capped with iqr"
   ]
  },
  {
   "cell_type": "code",
   "execution_count": 36,
   "metadata": {},
   "outputs": [],
   "source": [
    "# capping skew distribution\n",
    "winsoriser = Winsorizer(capping_method='iqr',\n",
    "                            tail='both',\n",
    "                            fold=3,\n",
    "                            variables= num_cols,\n",
    "                            missing_values='ignore')\n",
    "\n",
    "X_train_capped = winsoriser.fit_transform(X_train)\n",
    "X_test_capped = winsoriser.transform(X_test)"
   ]
  },
  {
   "cell_type": "code",
   "execution_count": 37,
   "metadata": {},
   "outputs": [],
   "source": [
    "# Function to create plots\n",
    "def diagnostic_plots(df, variable):\n",
    "    # Define figure size\n",
    "    plt.figure(figsize=(16, 4))\n",
    "\n",
    "    # Histogram\n",
    "    plt.subplot(1, 2, 1)\n",
    "    sns.histplot(df[variable], bins=30)\n",
    "    plt.title('Histogram')\n",
    "\n",
    "    # Boxplot\n",
    "    plt.subplot(1, 2, 2)\n",
    "    sns.boxplot(y=df[variable])\n",
    "    plt.title('Boxplot')\n",
    "\n",
    "    plt.show()"
   ]
  },
  {
   "cell_type": "code",
   "execution_count": 38,
   "metadata": {},
   "outputs": [
    {
     "name": "stdout",
     "output_type": "stream",
     "text": [
      "BMI - Before Capping\n"
     ]
    },
    {
     "data": {
      "image/png": "[encoded data removed]",
      "text/plain": [
       "<Figure size 1600x400 with 2 Axes>"
      ]
     },
     "metadata": {},
     "output_type": "display_data"
    },
    {
     "name": "stdout",
     "output_type": "stream",
     "text": [
      "\n",
      "BMI - After Capping\n"
     ]
    },
    {
     "data": {
      "image/png": "[encoded data removed]",
      "text/plain": [
       "<Figure size 1600x400 with 2 Axes>"
      ]
     },
     "metadata": {},
     "output_type": "display_data"
    },
    {
     "name": "stdout",
     "output_type": "stream",
     "text": [
      "MentHlth - Before Capping\n"
     ]
    },
    {
     "data": {
      "image/png": "[encoded data removed]",
      "text/plain": [
       "<Figure size 1600x400 with 2 Axes>"
      ]
     },
     "metadata": {},
     "output_type": "display_data"
    },
    {
     "name": "stdout",
     "output_type": "stream",
     "text": [
      "\n",
      "MentHlth - After Capping\n"
     ]
    },
    {
     "data": {
      "image/png": "[encoded data removed]",
      "text/plain": [
       "<Figure size 1600x400 with 2 Axes>"
      ]
     },
     "metadata": {},
     "output_type": "display_data"
    },
    {
     "name": "stdout",
     "output_type": "stream",
     "text": [
      "PhysHlth - Before Capping\n"
     ]
    },
    {
     "data": {
      "image/png": "[encoded data removed]",
      "text/plain": [
       "<Figure size 1600x400 with 2 Axes>"
      ]
     },
     "metadata": {},
     "output_type": "display_data"
    },
    {
     "name": "stdout",
     "output_type": "stream",
     "text": [
      "\n",
      "PhysHlth - After Capping\n"
     ]
    },
    {
     "data": {
      "image/png": "[encoded data removed]",
      "text/plain": [
       "<Figure size 1600x400 with 2 Axes>"
      ]
     },
     "metadata": {},
     "output_type": "display_data"
    }
   ],
   "source": [
    "# Check distribution before and after capping\n",
    "for col in num_cols:\n",
    "  print(f'{col} - Before Capping')\n",
    "  diagnostic_plots(X_train, col)\n",
    "\n",
    "  print(f'\\n{col} - After Capping')\n",
    "  diagnostic_plots(X_train_capped, col)"
   ]
  },
  {
   "cell_type": "markdown",
   "metadata": {},
   "source": [
    "## **6. Split Numeric Column and Category Column**"
   ]
  },
  {
   "cell_type": "code",
   "execution_count": 39,
   "metadata": {},
   "outputs": [
    {
     "name": "stdout",
     "output_type": "stream",
     "text": [
      "Numeric Columns      :  ['BMI', 'MentHlth', 'PhysHlth']\n",
      "Categorical Columns  :  ['Age', 'Sex', 'HighChol', 'CholCheck', 'Smoker', 'HeartDiseaseorAttack', 'Fruits', 'Veggies', 'HvyAlcoholConsump', 'GenHlth', 'DiffWalk', 'Stroke', 'HighBP']\n"
     ]
    }
   ],
   "source": [
    "# Stores numeric and category columns\n",
    "num_columns = X_train[['BMI','MentHlth','PhysHlth']].columns.tolist()\n",
    "\n",
    "cat_columns = X_train[['Age','Sex', 'HighChol', 'CholCheck','Smoker', 'HeartDiseaseorAttack', \n",
    "                        'Fruits', 'Veggies','HvyAlcoholConsump', 'GenHlth','DiffWalk',\n",
    "                        'Stroke', 'HighBP']].columns.tolist()\n",
    "\n",
    "print('Numeric Columns      : ', num_columns)\n",
    "print('Categorical Columns  : ', cat_columns)"
   ]
  },
  {
   "cell_type": "code",
   "execution_count": 40,
   "metadata": {},
   "outputs": [],
   "source": [
    "# Split train and test based on numeric and category\n",
    "X_train_num = X_train[num_columns]\n",
    "X_train_cat = X_train[cat_columns]\n",
    "\n",
    "X_test_num = X_test[num_columns]\n",
    "X_test_cat = X_test[cat_columns]"
   ]
  },
  {
   "cell_type": "markdown",
   "metadata": {},
   "source": [
    "## **7. Feature Selection**"
   ]
  },
  {
   "cell_type": "markdown",
   "metadata": {},
   "source": [
    "At this feature selection stage, the correlation between the feature and the target will be tested:\n",
    "1. If the feature is numerical then the correlation will be tested using Kendall Tau\n",
    "2. If the feature is categorical, the correlation will be tested using chi-squared\n",
    "3. After testing the correlation, in this task features that have no correlation will be deleted (dropped)\n",
    "\n",
    "Kendall knows and numerically:\n",
    "1. The reason for using Kendall Tau on numerical features is because the input data (feature) is numerical and the output (target) is categorical.\n",
    "2. The reason for using chi-squared on categorical features is because the input data (feature) is categorical and the output (target) is categorical.\n",
    "\n",
    "**Source :** [P1W1D3 PM page 15](https://www.kode.id/courses/take/full-time-data-analytics-phase-1/pdfs/47106282-day-3-pm-feature-engineering-part-2)"
   ]
  },
  {
   "cell_type": "code",
   "execution_count": 41,
   "metadata": {},
   "outputs": [
    {
     "data": {
      "text/html": [
       "<div>\n",
       "<style scoped>\n",
       "    .dataframe tbody tr th:only-of-type {\n",
       "        vertical-align: middle;\n",
       "    }\n",
       "\n",
       "    .dataframe tbody tr th {\n",
       "        vertical-align: top;\n",
       "    }\n",
       "\n",
       "    .dataframe thead th {\n",
       "        text-align: right;\n",
       "    }\n",
       "</style>\n",
       "<table border=\"1\" class=\"dataframe\">\n",
       "  <thead>\n",
       "    <tr style=\"text-align: right;\">\n",
       "      <th></th>\n",
       "      <th>nama kolom</th>\n",
       "      <th>hasil</th>\n",
       "    </tr>\n",
       "  </thead>\n",
       "  <tbody>\n",
       "    <tr>\n",
       "      <th>0</th>\n",
       "      <td>BMI</td>\n",
       "      <td>ada korelasi</td>\n",
       "    </tr>\n",
       "    <tr>\n",
       "      <th>1</th>\n",
       "      <td>MentHlth</td>\n",
       "      <td>ada korelasi</td>\n",
       "    </tr>\n",
       "    <tr>\n",
       "      <th>2</th>\n",
       "      <td>PhysHlth</td>\n",
       "      <td>ada korelasi</td>\n",
       "    </tr>\n",
       "  </tbody>\n",
       "</table>\n",
       "</div>"
      ],
      "text/plain": [
       "  nama kolom         hasil\n",
       "0        BMI  ada korelasi\n",
       "1   MentHlth  ada korelasi\n",
       "2   PhysHlth  ada korelasi"
      ]
     },
     "execution_count": 41,
     "metadata": {},
     "output_type": "execute_result"
    }
   ],
   "source": [
    "# Checking the correlation between numerical features and targets using Kendall Tau\n",
    "p_values = []\n",
    "interpretasi = []\n",
    "cols = []\n",
    "\n",
    "for col in X_train_num.columns:\n",
    "  corr_coef, p_value = kendalltau(X_train_num[col], y_train)\n",
    "\n",
    "  p_values.append(p_value)\n",
    "  cols.append(col)\n",
    "\n",
    "  if p_value < 0.05:\n",
    "    interpretasi.append('ada korelasi')\n",
    "  else :\n",
    "    interpretasi.append('tidak ada korelasi')\n",
    "\n",
    "pd.DataFrame({'nama kolom':cols,\n",
    "              'hasil': interpretasi})"
   ]
  },
  {
   "cell_type": "code",
   "execution_count": 42,
   "metadata": {},
   "outputs": [
    {
     "data": {
      "text/html": [
       "<div>\n",
       "<style scoped>\n",
       "    .dataframe tbody tr th:only-of-type {\n",
       "        vertical-align: middle;\n",
       "    }\n",
       "\n",
       "    .dataframe tbody tr th {\n",
       "        vertical-align: top;\n",
       "    }\n",
       "\n",
       "    .dataframe thead th {\n",
       "        text-align: right;\n",
       "    }\n",
       "</style>\n",
       "<table border=\"1\" class=\"dataframe\">\n",
       "  <thead>\n",
       "    <tr style=\"text-align: right;\">\n",
       "      <th></th>\n",
       "      <th>nama kolom</th>\n",
       "      <th>hasil</th>\n",
       "    </tr>\n",
       "  </thead>\n",
       "  <tbody>\n",
       "    <tr>\n",
       "      <th>0</th>\n",
       "      <td>Age</td>\n",
       "      <td>ada korelasi</td>\n",
       "    </tr>\n",
       "    <tr>\n",
       "      <th>1</th>\n",
       "      <td>Sex</td>\n",
       "      <td>ada korelasi</td>\n",
       "    </tr>\n",
       "    <tr>\n",
       "      <th>2</th>\n",
       "      <td>HighChol</td>\n",
       "      <td>ada korelasi</td>\n",
       "    </tr>\n",
       "    <tr>\n",
       "      <th>3</th>\n",
       "      <td>CholCheck</td>\n",
       "      <td>ada korelasi</td>\n",
       "    </tr>\n",
       "    <tr>\n",
       "      <th>4</th>\n",
       "      <td>Smoker</td>\n",
       "      <td>ada korelasi</td>\n",
       "    </tr>\n",
       "    <tr>\n",
       "      <th>5</th>\n",
       "      <td>HeartDiseaseorAttack</td>\n",
       "      <td>ada korelasi</td>\n",
       "    </tr>\n",
       "    <tr>\n",
       "      <th>6</th>\n",
       "      <td>Fruits</td>\n",
       "      <td>ada korelasi</td>\n",
       "    </tr>\n",
       "    <tr>\n",
       "      <th>7</th>\n",
       "      <td>Veggies</td>\n",
       "      <td>ada korelasi</td>\n",
       "    </tr>\n",
       "    <tr>\n",
       "      <th>8</th>\n",
       "      <td>HvyAlcoholConsump</td>\n",
       "      <td>ada korelasi</td>\n",
       "    </tr>\n",
       "    <tr>\n",
       "      <th>9</th>\n",
       "      <td>GenHlth</td>\n",
       "      <td>ada korelasi</td>\n",
       "    </tr>\n",
       "    <tr>\n",
       "      <th>10</th>\n",
       "      <td>DiffWalk</td>\n",
       "      <td>ada korelasi</td>\n",
       "    </tr>\n",
       "    <tr>\n",
       "      <th>11</th>\n",
       "      <td>Stroke</td>\n",
       "      <td>ada korelasi</td>\n",
       "    </tr>\n",
       "    <tr>\n",
       "      <th>12</th>\n",
       "      <td>HighBP</td>\n",
       "      <td>ada korelasi</td>\n",
       "    </tr>\n",
       "  </tbody>\n",
       "</table>\n",
       "</div>"
      ],
      "text/plain": [
       "              nama kolom         hasil\n",
       "0                    Age  ada korelasi\n",
       "1                    Sex  ada korelasi\n",
       "2               HighChol  ada korelasi\n",
       "3              CholCheck  ada korelasi\n",
       "4                 Smoker  ada korelasi\n",
       "5   HeartDiseaseorAttack  ada korelasi\n",
       "6                 Fruits  ada korelasi\n",
       "7                Veggies  ada korelasi\n",
       "8      HvyAlcoholConsump  ada korelasi\n",
       "9                GenHlth  ada korelasi\n",
       "10              DiffWalk  ada korelasi\n",
       "11                Stroke  ada korelasi\n",
       "12                HighBP  ada korelasi"
      ]
     },
     "execution_count": 42,
     "metadata": {},
     "output_type": "execute_result"
    }
   ],
   "source": [
    "# Checking the correlation between category features and targets using Chi-Squared\n",
    "p_values = []\n",
    "interpretasi = []\n",
    "cols = []\n",
    "\n",
    "for col in X_train_cat.columns:\n",
    "  contingency_table = pd.crosstab(X_train_cat[col], y_train)\n",
    "\n",
    "# Perform a chi-squared test\n",
    "  chi2_stat, p_value, _, _ = chi2_contingency(contingency_table)\n",
    "\n",
    "  p_values.append(p_value)\n",
    "  cols.append(col)\n",
    "\n",
    "  if p_value < 0.05:\n",
    "    interpretasi.append('ada korelasi')\n",
    "  else :\n",
    "    interpretasi.append('tidak ada korelasi')\n",
    "\n",
    "pd.DataFrame({'nama kolom':cols,\n",
    "              'hasil': interpretasi})"
   ]
  },
  {
   "cell_type": "markdown",
   "metadata": {},
   "source": [
    "In this dataset all feature columns (X) have a correlation with the target (y)\n"
   ]
  },
  {
   "cell_type": "markdown",
   "metadata": {},
   "source": [
    "# **F. Model Definition Menggunakan Pipeline**"
   ]
  },
  {
   "cell_type": "markdown",
   "metadata": {},
   "source": [
    "At this stage we use a Column Transformer which contains:\n",
    "- scaler using StandardScaler\n",
    "- Encoding using OrdinalEncoder\n",
    "\n",
    "After that, model definition is carried out using a pipeline. This dataset will be tested using 5 algorithms, namely:\n",
    "- K-Nearest Neighbors (KNN)\n",
    "- Support Vector Classification (SVC)\n",
    "- DecisionTreeClassifier\n",
    "- RandomForestClassifier\n",
    "- AdaBoostClassifier (Boosting)"
   ]
  },
  {
   "cell_type": "code",
   "execution_count": 43,
   "metadata": {},
   "outputs": [
    {
     "name": "stdout",
     "output_type": "stream",
     "text": [
      "Numeric Columns      :  ['BMI', 'MentHlth', 'PhysHlth']\n",
      "Categorical Columns  :  ['Age', 'Sex', 'HighChol', 'CholCheck', 'Smoker', 'HeartDiseaseorAttack', 'Fruits', 'Veggies', 'HvyAlcoholConsump', 'GenHlth', 'DiffWalk', 'Stroke', 'HighBP']\n"
     ]
    }
   ],
   "source": [
    "print('Numeric Columns      : ', num_columns)\n",
    "print('Categorical Columns  : ', cat_columns)"
   ]
  },
  {
   "cell_type": "code",
   "execution_count": 44,
   "metadata": {},
   "outputs": [],
   "source": [
    "# column transformer for preprocessing\n",
    "preprocessing_pipeline = ColumnTransformer([\n",
    "('scaler', StandardScaler(), num_columns),\n",
    "('encoding', OrdinalEncoder(), cat_columns)\n",
    "])\n",
    "\n",
    "# Definition of the KNN algorithm using a pipeline\n",
    "pipe_knn = Pipeline([\n",
    "('preprocessing', preprocessing_pipeline),\n",
    "('classifier', KNeighborsClassifier())\n",
    "])\n",
    "\n",
    "# Definition of the SVC Algorithm using a pipeline\n",
    "pipe_svc = Pipeline([\n",
    "('preprocessing', preprocessing_pipeline),\n",
    "('classifier', SVC())\n",
    "])\n",
    "\n",
    "# Definition of the Decision Tree Algorithm using a pipeline\n",
    "pipe_dt = Pipeline([\n",
    "('preprocessing', preprocessing_pipeline),\n",
    "('classifier', DecisionTreeClassifier())\n",
    "])\n",
    "\n",
    "# Definition of the Random Forest Algorithm using a pipeline\n",
    "pipe_rf = Pipeline([\n",
    "('preprocessing', preprocessing_pipeline),\n",
    "('classifier', RandomForestClassifier())\n",
    "])\n",
    "\n",
    "# Definition of the AdaBoost (Boosting) algorithm using a pipeline\n",
    "pipe_boost = Pipeline([\n",
    "('preprocessing', preprocessing_pipeline),\n",
    "('classifier', AdaBoostClassifier(RandomForestClassifier(max_depth=2, random_state=22)))\n",
    "])\n"
   ]
  },
  {
   "cell_type": "markdown",
   "metadata": {},
   "source": [
    "# **G. Model Evaluation, Training and Hyperparameter Tuning**"
   ]
  },
  {
   "cell_type": "markdown",
   "metadata": {},
   "source": [
    "At this evaluation model stage we will use the `Recall` matrix, because:\n",
    "False negative prediction errors (prediction of not diabetes, actually diabetes) in diabetes prediction models can have serious consequences for a person's health if not detected in time. Patients at high risk of developing undetected diabetes may miss the opportunity for early intervention, treatment, and timely management of the disease, thereby worsening the condition and increasing the risk of serious complications"
   ]
  },
  {
   "cell_type": "markdown",
   "metadata": {},
   "source": [
    "## **1. K-Nearest Neighbors (KNN)**"
   ]
  },
  {
   "cell_type": "code",
   "execution_count": 45,
   "metadata": {},
   "outputs": [
    {
     "data": {
      "text/plain": [
       "array([1, 0, 0, ..., 1, 1, 1], dtype=int64)"
      ]
     },
     "execution_count": 45,
     "metadata": {},
     "output_type": "execute_result"
    }
   ],
   "source": [
    "# Train Model\n",
    "pipe_knn.fit(X_train, y_train)\n",
    "\n",
    "# predictions\n",
    "y_knn_pred = pipe_knn.predict(X_test)\n",
    "y_knn_pred"
   ]
  },
  {
   "cell_type": "code",
   "execution_count": 46,
   "metadata": {},
   "outputs": [
    {
     "name": "stdout",
     "output_type": "stream",
     "text": [
      "Training Score:  0.7858\n",
      "Testing Score:  0.6893\n"
     ]
    }
   ],
   "source": [
    "#Model Evaluation\n",
    "print('Training Score: ',round(pipe_knn.score(X_train, y_train),4))\n",
    "print('Testing Score: ', round(pipe_knn.score(X_test, y_test),4))"
   ]
  },
  {
   "cell_type": "code",
   "execution_count": 47,
   "metadata": {},
   "outputs": [
    {
     "name": "stdout",
     "output_type": "stream",
     "text": [
      "              precision    recall  f1-score   support\n",
      "\n",
      " No Diabetes       0.69      0.64      0.67      7746\n",
      "    Diabetes       0.69      0.73      0.71      8259\n",
      "\n",
      "    accuracy                           0.69     16005\n",
      "   macro avg       0.69      0.69      0.69     16005\n",
      "weighted avg       0.69      0.69      0.69     16005\n",
      "\n"
     ]
    }
   ],
   "source": [
    "# classification report from knn\n",
    "target = ['No Diabetes', 'Diabetes']\n",
    "\n",
    "print(classification_report(y_test, y_knn_pred, target_names = target))"
   ]
  },
  {
   "cell_type": "code",
   "execution_count": 48,
   "metadata": {},
   "outputs": [
    {
     "name": "stdout",
     "output_type": "stream",
     "text": [
      "recall Score - All - Cross Validation  :  [0.73329356 0.73428799 0.73369133 0.72474145 0.73900935]\n",
      "recall Score - Mean - Cross Validation :  0.7330047338643402\n",
      "recall Score - Std - Cross Validation  :  0.004616034532060805\n",
      "recall Score - Range of Test-Set       :  0.7283886993322793 - 0.737620768396401\n"
     ]
    }
   ],
   "source": [
    "#Cross Validation\n",
    "recall_train_cross_val = cross_val_score(pipe_knn,\n",
    "                                     X_train,\n",
    "                                     y_train,\n",
    "                                     cv=5,\n",
    "                                     scoring=\"recall\")\n",
    "\n",
    "print('recall Score - All - Cross Validation  : ', recall_train_cross_val)\n",
    "print('recall Score - Mean - Cross Validation : ', recall_train_cross_val.mean())\n",
    "print('recall Score - Std - Cross Validation  : ', recall_train_cross_val.std())\n",
    "print('recall Score - Range of Test-Set       : ', (recall_train_cross_val.mean()-recall_train_cross_val.std()) , '-', (recall_train_cross_val.mean()+recall_train_cross_val.std()))"
   ]
  },
  {
   "cell_type": "markdown",
   "metadata": {},
   "source": [
    "Based on the results of the model using the KNN algorithm, there are several things that can be noted:\n",
    "\n",
    "1. Model Performance:\n",
    "   - A train score of 0.7858 and a testing score of 0.6893 indicate overfitting, where the model tends to fit the training data too well but is unable to generalize well to the test data.\n",
    "   \n",
    "2. Model Performance Evaluation:\n",
    "   - Even though overfitting occurs, the recall matrix results show quite good performance. This shows that although the model tends to overfit, its ability to recognize certain classes (for example the positive class) is relatively good.\n",
    "   \n",
    "3. Cross Validation:\n",
    "   - The average cross validation value is 0.733 with a standard deviation of 0.0046 indicating consistency in model performance. The relatively high average value indicates that the model has a good ability to learn patterns from the data, although attention still needs to be paid to overcome overfitting.\n",
    "\n",
    "It can be concluded, although the KNN model shows quite good performance in recognizing certain classes, overfitting is a major concern that needs to be addressed. Steps such as regularization or the use of dimensionality reduction techniques can be a solution to improve model generalization."
   ]
  },
  {
   "cell_type": "markdown",
   "metadata": {},
   "source": [
    "## **2. Support Vector Classification (SVC)**"
   ]
  },
  {
   "cell_type": "code",
   "execution_count": 49,
   "metadata": {},
   "outputs": [
    {
     "data": {
      "text/plain": [
       "array([0, 0, 0, ..., 1, 1, 1], dtype=int64)"
      ]
     },
     "execution_count": 49,
     "metadata": {},
     "output_type": "execute_result"
    }
   ],
   "source": [
    "# Train Model\n",
    "pipe_svc.fit(X_train, y_train)\n",
    "\n",
    "# prediction\n",
    "y_svc_pred = pipe_svc.predict(X_test)\n",
    "y_svc_pred"
   ]
  },
  {
   "cell_type": "code",
   "execution_count": 50,
   "metadata": {},
   "outputs": [
    {
     "name": "stdout",
     "output_type": "stream",
     "text": [
      "Training Score:  0.7362\n",
      "Testing Score:  0.7338\n"
     ]
    }
   ],
   "source": [
    "#Model Evaluation\n",
    "print('Training Score: ',round(pipe_svc.score(X_train, y_train),4))\n",
    "print('Testing Score: ', round(pipe_svc.score(X_test, y_test),4))"
   ]
  },
  {
   "cell_type": "code",
   "execution_count": 51,
   "metadata": {},
   "outputs": [
    {
     "name": "stdout",
     "output_type": "stream",
     "text": [
      "              precision    recall  f1-score   support\n",
      "\n",
      " No Diabetes       0.77      0.64      0.70      7746\n",
      "    Diabetes       0.71      0.82      0.76      8259\n",
      "\n",
      "    accuracy                           0.73     16005\n",
      "   macro avg       0.74      0.73      0.73     16005\n",
      "weighted avg       0.74      0.73      0.73     16005\n",
      "\n"
     ]
    }
   ],
   "source": [
    "# classification report from svc\n",
    "target = ['No Diabetes', 'Diabetes']\n",
    "\n",
    "print(classification_report(y_test, y_svc_pred, target_names = target))"
   ]
  },
  {
   "cell_type": "code",
   "execution_count": 52,
   "metadata": {},
   "outputs": [
    {
     "name": "stdout",
     "output_type": "stream",
     "text": [
      "recall Score - All - Cross Validation  :  [0.81662689 0.82140016 0.81742243 0.81762132 0.81738611]\n",
      "recall Score - Mean - Cross Validation :  0.8180913836959022\n",
      "recall Score - Std - Cross Validation  :  0.0016887033307943441\n",
      "recall Score - Range of Test-Set       :  0.8164026803651079 - 0.8197800870266965\n"
     ]
    }
   ],
   "source": [
    "#Cross Validation\n",
    "recall_train_cross_val = cross_val_score(pipe_svc,\n",
    "                                     X_train,\n",
    "                                     y_train,\n",
    "                                     cv=5,\n",
    "                                     scoring=\"recall\")\n",
    "\n",
    "print('recall Score - All - Cross Validation  : ', recall_train_cross_val)\n",
    "print('recall Score - Mean - Cross Validation : ', recall_train_cross_val.mean())\n",
    "print('recall Score - Std - Cross Validation  : ', recall_train_cross_val.std())\n",
    "print('recall Score - Range of Test-Set       : ', (recall_train_cross_val.mean()-recall_train_cross_val.std()) , '-', (recall_train_cross_val.mean()+recall_train_cross_val.std()))"
   ]
  },
  {
   "cell_type": "markdown",
   "metadata": {},
   "source": [
    "Based on the results of the analysis of the model using the SVC (Support Vector Classifier) ​​algorithm, several important findings have been identified:\n",
    "\n",
    "1. Model performance:\n",
    "    - Overall looks very good. There is good agreement between the training score (0.7362) and the testing score (0.7338), indicating that the model is able to provide consistent results both on the data used for training and on new data.\n",
    "\n",
    "2. Performance evaluation:\n",
    "    - The model in terms of the recall matrix shows very satisfactory results, namely 0.82. This indicates that the model is able to identify classes with a high success rate, which is a very good indication in the context of classifiers.\n",
    "\n",
    "3. Cross validation:\n",
    "    - shows an average value of 0.8180 with a standard deviation of 0.0016. This high mean value indicates good consistency in model performance, while the low standard deviation indicates that the variation in performance between cross validation folds is very small.\n",
    "\n",
    "It can be concluded that the SVC model has provided very satisfactory results. Good performance on training scores, testing scores, recall matrix, and cross validation shows that the model is able to perform classification with high accuracy and is able to generalize well on new data. As a result, this model is reliable for practical applications in data processing and decision making."
   ]
  },
  {
   "cell_type": "markdown",
   "metadata": {},
   "source": [
    "## **3. Decision Tree Classifier**"
   ]
  },
  {
   "cell_type": "code",
   "execution_count": 53,
   "metadata": {},
   "outputs": [
    {
     "data": {
      "text/plain": [
       "array([1, 0, 0, ..., 0, 1, 1], dtype=int64)"
      ]
     },
     "execution_count": 53,
     "metadata": {},
     "output_type": "execute_result"
    }
   ],
   "source": [
    "# Train Model\n",
    "pipe_dt.fit(X_train, y_train)\n",
    "\n",
    "# prediction\n",
    "y_dt_pred = pipe_dt.predict(X_test)\n",
    "y_dt_pred"
   ]
  },
  {
   "cell_type": "code",
   "execution_count": 54,
   "metadata": {},
   "outputs": [
    {
     "name": "stdout",
     "output_type": "stream",
     "text": [
      "Training Score:  0.9705\n",
      "Testing Score:  0.6246\n"
     ]
    }
   ],
   "source": [
    "#Model Evaluation\n",
    "print('Training Score: ',round(pipe_dt.score(X_train, y_train),4))\n",
    "print('Testing Score: ', round(pipe_dt.score(X_test, y_test),4))"
   ]
  },
  {
   "cell_type": "code",
   "execution_count": 55,
   "metadata": {},
   "outputs": [
    {
     "name": "stdout",
     "output_type": "stream",
     "text": [
      "              precision    recall  f1-score   support\n",
      "\n",
      " No Diabetes       0.61      0.63      0.62      7746\n",
      "    Diabetes       0.64      0.62      0.63      8259\n",
      "\n",
      "    accuracy                           0.62     16005\n",
      "   macro avg       0.62      0.62      0.62     16005\n",
      "weighted avg       0.63      0.62      0.62     16005\n",
      "\n"
     ]
    }
   ],
   "source": [
    "# classification report from dt\n",
    "target = ['No Diabetes', 'Diabetes']\n",
    "\n",
    "print(classification_report(y_test, y_dt_pred, target_names = target))"
   ]
  },
  {
   "cell_type": "code",
   "execution_count": 56,
   "metadata": {},
   "outputs": [
    {
     "name": "stdout",
     "output_type": "stream",
     "text": [
      "recall Score - All - Cross Validation  :  [0.63206046 0.62052506 0.63206046 0.62887828 0.64153571]\n",
      "recall Score - Mean - Cross Validation :  0.6310119942604289\n",
      "recall Score - Std - Cross Validation  :  0.006745007445543781\n",
      "recall Score - Range of Test-Set       :  0.6242669868148851 - 0.6377570017059726\n"
     ]
    }
   ],
   "source": [
    "#Cross Validation\n",
    "recall_train_cross_val = cross_val_score(pipe_dt,\n",
    "                                     X_train,\n",
    "                                     y_train,\n",
    "                                     cv=5,\n",
    "                                     scoring=\"recall\")\n",
    "\n",
    "print('recall Score - All - Cross Validation  : ', recall_train_cross_val)\n",
    "print('recall Score - Mean - Cross Validation : ', recall_train_cross_val.mean())\n",
    "print('recall Score - Std - Cross Validation  : ', recall_train_cross_val.std())\n",
    "print('recall Score - Range of Test-Set       : ', (recall_train_cross_val.mean()-recall_train_cross_val.std()) , '-', (recall_train_cross_val.mean()+recall_train_cross_val.std()))"
   ]
  },
  {
   "cell_type": "markdown",
   "metadata": {},
   "source": [
    "Based on the results of the analysis of the model using the Decision Tree algorithm, there are several findings that need attention:\n",
    "\n",
    "1. Model performance:\n",
    "    - It can be seen that there is a significant difference between the training score (0.9705) and the testing score (0.621), indicating overfitting. The model tends to overfit the training data but is unable to generalize well to the test data. This can result in poor performance on previously unseen data.\n",
    "\n",
    "2. Model Performance Evaluation:\n",
    "    - The recall matrix value of 0.62 indicates unsatisfactory performance in recognizing certain classes. This indicates that the Decision Tree model may have difficulty identifying classes with a high success rate.\n",
    "\n",
    "3. Cross Validation:\n",
    "    - The average cross validation value is 0.6278 with a standard deviation of 0.0078, indicating that the model has consistent performance in learning patterns from the data. However, the relatively low average value indicates that the model has quite ordinary performance in predicting new data.\n",
    "\n",
    "It can be concluded that although the Decision Tree model may be able to provide good results on training data, the presence of overfitting and unsatisfactory performance on test data as well as low values ​​on the recall matrix indicate that this model requires adjustment and improvement. Steps such as parameter tuning, use of ensemble techniques, or use of more complex algorithms are needed to improve the generalization ability and performance of the model on previously unseen data."
   ]
  },
  {
   "cell_type": "markdown",
   "metadata": {},
   "source": [
    "## **4. Random Forest Classifier**"
   ]
  },
  {
   "cell_type": "code",
   "execution_count": 57,
   "metadata": {},
   "outputs": [
    {
     "data": {
      "text/plain": [
       "array([0, 0, 0, ..., 1, 1, 1], dtype=int64)"
      ]
     },
     "execution_count": 57,
     "metadata": {},
     "output_type": "execute_result"
    }
   ],
   "source": [
    "# Train Model\n",
    "pipe_rf.fit(X_train, y_train)\n",
    "\n",
    "# prediction\n",
    "y_rf_pred = pipe_rf.predict(X_test)\n",
    "y_rf_pred"
   ]
  },
  {
   "cell_type": "code",
   "execution_count": 58,
   "metadata": {},
   "outputs": [
    {
     "name": "stdout",
     "output_type": "stream",
     "text": [
      "Training Score:  0.9705\n",
      "Testing Score:  0.6952\n"
     ]
    }
   ],
   "source": [
    "# Model Evaluation\n",
    "print('Training Score: ',round(pipe_rf.score(X_train, y_train),4))\n",
    "print('Testing Score: ', round(pipe_rf.score(X_test, y_test),4))"
   ]
  },
  {
   "cell_type": "code",
   "execution_count": 59,
   "metadata": {},
   "outputs": [
    {
     "name": "stdout",
     "output_type": "stream",
     "text": [
      "              precision    recall  f1-score   support\n",
      "\n",
      " No Diabetes       0.70      0.64      0.67      7746\n",
      "    Diabetes       0.69      0.75      0.72      8259\n",
      "\n",
      "    accuracy                           0.70     16005\n",
      "   macro avg       0.70      0.69      0.69     16005\n",
      "weighted avg       0.70      0.70      0.69     16005\n",
      "\n"
     ]
    }
   ],
   "source": [
    "# classification report from rf\n",
    "target = ['No Diabetes', 'Diabetes']\n",
    "\n",
    "print(classification_report(y_test, y_rf_pred, target_names = target))"
   ]
  },
  {
   "cell_type": "code",
   "execution_count": 60,
   "metadata": {},
   "outputs": [
    {
     "name": "stdout",
     "output_type": "stream",
     "text": [
      "recall Score - All - Cross Validation  :  [0.74502784 0.74622116 0.75       0.74264121 0.75293416]\n",
      "recall Score - Mean - Cross Validation :  0.7473648740714225\n",
      "recall Score - Std - Cross Validation  :  0.0036617914243395402\n",
      "recall Score - Range of Test-Set       :  0.743703082647083 - 0.751026665495762\n"
     ]
    }
   ],
   "source": [
    "#Cross Validation\n",
    "recall_train_cross_val = cross_val_score(pipe_rf,\n",
    "                                     X_train,\n",
    "                                     y_train,\n",
    "                                     cv=5,\n",
    "                                     scoring=\"recall\")\n",
    "\n",
    "print('recall Score - All - Cross Validation  : ', recall_train_cross_val)\n",
    "print('recall Score - Mean - Cross Validation : ', recall_train_cross_val.mean())\n",
    "print('recall Score - Std - Cross Validation  : ', recall_train_cross_val.std())\n",
    "print('recall Score - Range of Test-Set       : ', (recall_train_cross_val.mean()-recall_train_cross_val.std()) , '-', (recall_train_cross_val.mean()+recall_train_cross_val.std()))"
   ]
  },
  {
   "cell_type": "markdown",
   "metadata": {},
   "source": [
    "Based on the results of the analysis of the model using the Random Forest algorithm, several important findings can be identified:\n",
    "\n",
    "1. Model performance:\n",
    "    - It can be seen that there is a significant difference between the training score (0.9705) and the testing score (0.695), indicating overfitting. This indicates that the model tends to overfit the training data and may not generalize well to new test data.\n",
    "\n",
    "2. Model Performance Evaluation:\n",
    "    - With a recall matrix value of 0.75, the Random Forest model shows relatively good performance in recognizing certain classes. This indicates that the model is able to identify classes with a fairly high success rate.\n",
    "\n",
    "3. Cross Validation:\n",
    "    - The results of cross validation show an average value of 0.7456 with a standard deviation of 0.0033. This relatively high mean value indicates that the model has good performance in learning patterns from the data, while a low standard deviation indicates good consistency in model performance.\n",
    "\n",
    "It can be concluded that the Random Forest model provides quite satisfactory results. Even though overfitting occurs, the model is able to provide good performance on the test score and recall matrix. Additionally, the results from cross validation show consistency in model performance. However, it is important to remember that dealing with overfitting remains the main focus to improve the generalization ability of the model on previously unseen data."
   ]
  },
  {
   "cell_type": "markdown",
   "metadata": {},
   "source": [
    "## **5. Boosting (AdaBoostClassifier)**"
   ]
  },
  {
   "cell_type": "code",
   "execution_count": 61,
   "metadata": {},
   "outputs": [
    {
     "data": {
      "text/plain": [
       "array([0, 0, 0, ..., 1, 1, 1], dtype=int64)"
      ]
     },
     "execution_count": 61,
     "metadata": {},
     "output_type": "execute_result"
    }
   ],
   "source": [
    "# Train Model\n",
    "pipe_boost.fit(X_train, y_train)\n",
    "\n",
    "# prediction\n",
    "y_boost_pred = pipe_boost.predict(X_test)\n",
    "y_boost_pred"
   ]
  },
  {
   "cell_type": "code",
   "execution_count": 62,
   "metadata": {},
   "outputs": [
    {
     "name": "stdout",
     "output_type": "stream",
     "text": [
      "Training Score:  0.7436\n",
      "Testing Score:  0.7397\n"
     ]
    }
   ],
   "source": [
    "# Model Evaluation\n",
    "print('Training Score: ',round(pipe_boost.score(X_train, y_train),4))\n",
    "print('Testing Score: ', round(pipe_boost.score(X_test, y_test),4))"
   ]
  },
  {
   "cell_type": "code",
   "execution_count": 63,
   "metadata": {},
   "outputs": [
    {
     "name": "stdout",
     "output_type": "stream",
     "text": [
      "              precision    recall  f1-score   support\n",
      "\n",
      " No Diabetes       0.76      0.68      0.72      7746\n",
      "    Diabetes       0.73      0.80      0.76      8259\n",
      "\n",
      "    accuracy                           0.74     16005\n",
      "   macro avg       0.74      0.74      0.74     16005\n",
      "weighted avg       0.74      0.74      0.74     16005\n",
      "\n"
     ]
    }
   ],
   "source": [
    "# classification report from adaboost\n",
    "target = ['No Diabetes', 'Diabetes']\n",
    "\n",
    "print(classification_report(y_test, y_boost_pred, target_names = target))"
   ]
  },
  {
   "cell_type": "code",
   "execution_count": 64,
   "metadata": {},
   "outputs": [
    {
     "name": "stdout",
     "output_type": "stream",
     "text": [
      "recall Score - All - Cross Validation  :  [0.79097056 0.79534606 0.80171042 0.7947494  0.79629998]\n",
      "recall Score - Mean - Cross Validation :  0.7958152863953901\n",
      "recall Score - Std - Cross Validation  :  0.0034587614164896087\n",
      "recall Score - Range of Test-Set       :  0.7923565249789005 - 0.7992740478118797\n"
     ]
    }
   ],
   "source": [
    "#Cross Validation\n",
    "recall_train_cross_val = cross_val_score(pipe_boost,\n",
    "                                     X_train,\n",
    "                                     y_train,\n",
    "                                     cv=5,\n",
    "                                     scoring=\"recall\")\n",
    "\n",
    "print('recall Score - All - Cross Validation  : ', recall_train_cross_val)\n",
    "print('recall Score - Mean - Cross Validation : ', recall_train_cross_val.mean())\n",
    "print('recall Score - Std - Cross Validation  : ', recall_train_cross_val.std())\n",
    "print('recall Score - Range of Test-Set       : ', (recall_train_cross_val.mean()-recall_train_cross_val.std()) , '-', (recall_train_cross_val.mean()+recall_train_cross_val.std()))"
   ]
  },
  {
   "cell_type": "markdown",
   "metadata": {},
   "source": [
    "Based on the results of the analysis of the model using the AdaboostClassifier algorithm, several important findings have been identified:\n",
    "\n",
    "1. Model performance:\n",
    "    - From the results, it can be seen that there is a quite significant difference between the training score (0.7425) and the testing score (0.7399), indicating overfitting. This indicates that the model may overfit the training data and not generalize well to the test data.\n",
    "\n",
    "2. Model Performance Evaluation:\n",
    "    - With a recall matrix value of 0.80, the AdaboostClassifier model shows good performance in recognizing certain classes. This indicates that the model is able to identify classes with a fairly high success rate.\n",
    "\n",
    "3. Cross Validation:\n",
    "    - The results of cross validation show an average value of 0.7960 with a standard deviation of 0.0028. This relatively high mean value indicates that the model has good performance in learning patterns from the data, while a low standard deviation indicates good consistency in model performance.\n",
    "\n",
    "From this conclusion, even though overfitting occurs, the AdaboostClassifier model is still able to provide good performance on the test score and recall matrix. Additionally, the cross validation results show consistency in model performance. However, handling overfitting remains an important aspect that needs to be considered to improve the generalization ability of the model on new data."
   ]
  },
  {
   "cell_type": "markdown",
   "metadata": {},
   "source": [
    "# **H. Conclusions from the 5 Algorithms:**"
   ]
  },
  {
   "cell_type": "markdown",
   "metadata": {},
   "source": [
    "Based on the comparison above, the algorithm that provides the best results is SVC. Even though it has a little overfitting, SVC has a high test score, good recall matrix value, and high average cross validation results. This shows that SVC is able to provide a good balance between generalization ability and performance on test data."
   ]
  },
  {
   "cell_type": "markdown",
   "metadata": {},
   "source": [
    "# **I. Model Optimization - Hyperparameter Tuning SVC**"
   ]
  },
  {
   "cell_type": "code",
   "execution_count": 65,
   "metadata": {},
   "outputs": [],
   "source": [
    "# Parameter SVC\n",
    "param_grid_svc = {'classifier__C': [100, 1000, 10000],  \n",
    "                  'classifier__gamma': [0.001, 0.0001, 0.00001], \n",
    "                  } "
   ]
  },
  {
   "cell_type": "code",
   "execution_count": 66,
   "metadata": {},
   "outputs": [
    {
     "data": {
      "text/html": [
       "<style>#sk-container-id-1 {color: black;}#sk-container-id-1 pre{padding: 0;}#sk-container-id-1 div.sk-toggleable {background-color: white;}#sk-container-id-1 label.sk-toggleable__label {cursor: pointer;display: block;width: 100%;margin-bottom: 0;padding: 0.3em;box-sizing: border-box;text-align: center;}#sk-container-id-1 label.sk-toggleable__label-arrow:before {content: \"▸\";float: left;margin-right: 0.25em;color: #696969;}#sk-container-id-1 label.sk-toggleable__label-arrow:hover:before {color: black;}#sk-container-id-1 div.sk-estimator:hover label.sk-toggleable__label-arrow:before {color: black;}#sk-container-id-1 div.sk-toggleable__content {max-height: 0;max-width: 0;overflow: hidden;text-align: left;background-color: #f0f8ff;}#sk-container-id-1 div.sk-toggleable__content pre {margin: 0.2em;color: black;border-radius: 0.25em;background-color: #f0f8ff;}#sk-container-id-1 input.sk-toggleable__control:checked~div.sk-toggleable__content {max-height: 200px;max-width: 100%;overflow: auto;}#sk-container-id-1 input.sk-toggleable__control:checked~label.sk-toggleable__label-arrow:before {content: \"▾\";}#sk-container-id-1 div.sk-estimator input.sk-toggleable__control:checked~label.sk-toggleable__label {background-color: #d4ebff;}#sk-container-id-1 div.sk-label input.sk-toggleable__control:checked~label.sk-toggleable__label {background-color: #d4ebff;}#sk-container-id-1 input.sk-hidden--visually {border: 0;clip: rect(1px 1px 1px 1px);clip: rect(1px, 1px, 1px, 1px);height: 1px;margin: -1px;overflow: hidden;padding: 0;position: absolute;width: 1px;}#sk-container-id-1 div.sk-estimator {font-family: monospace;background-color: #f0f8ff;border: 1px dotted black;border-radius: 0.25em;box-sizing: border-box;margin-bottom: 0.5em;}#sk-container-id-1 div.sk-estimator:hover {background-color: #d4ebff;}#sk-container-id-1 div.sk-parallel-item::after {content: \"\";width: 100%;border-bottom: 1px solid gray;flex-grow: 1;}#sk-container-id-1 div.sk-label:hover label.sk-toggleable__label {background-color: #d4ebff;}#sk-container-id-1 div.sk-serial::before {content: \"\";position: absolute;border-left: 1px solid gray;box-sizing: border-box;top: 0;bottom: 0;left: 50%;z-index: 0;}#sk-container-id-1 div.sk-serial {display: flex;flex-direction: column;align-items: center;background-color: white;padding-right: 0.2em;padding-left: 0.2em;position: relative;}#sk-container-id-1 div.sk-item {position: relative;z-index: 1;}#sk-container-id-1 div.sk-parallel {display: flex;align-items: stretch;justify-content: center;background-color: white;position: relative;}#sk-container-id-1 div.sk-item::before, #sk-container-id-1 div.sk-parallel-item::before {content: \"\";position: absolute;border-left: 1px solid gray;box-sizing: border-box;top: 0;bottom: 0;left: 50%;z-index: -1;}#sk-container-id-1 div.sk-parallel-item {display: flex;flex-direction: column;z-index: 1;position: relative;background-color: white;}#sk-container-id-1 div.sk-parallel-item:first-child::after {align-self: flex-end;width: 50%;}#sk-container-id-1 div.sk-parallel-item:last-child::after {align-self: flex-start;width: 50%;}#sk-container-id-1 div.sk-parallel-item:only-child::after {width: 0;}#sk-container-id-1 div.sk-dashed-wrapped {border: 1px dashed gray;margin: 0 0.4em 0.5em 0.4em;box-sizing: border-box;padding-bottom: 0.4em;background-color: white;}#sk-container-id-1 div.sk-label label {font-family: monospace;font-weight: bold;display: inline-block;line-height: 1.2em;}#sk-container-id-1 div.sk-label-container {text-align: center;}#sk-container-id-1 div.sk-container {/* jupyter's `normalize.less` sets `[hidden] { display: none; }` but bootstrap.min.css set `[hidden] { display: none !important; }` so we also need the `!important` here to be able to override the default hidden behavior on the sphinx rendered scikit-learn.org. See: https://github.com/scikit-learn/scikit-learn/issues/21755 */display: inline-block !important;position: relative;}#sk-container-id-1 div.sk-text-repr-fallback {display: none;}</style><div id=\"sk-container-id-1\" class=\"sk-top-container\"><div class=\"sk-text-repr-fallback\"><pre>GridSearchCV(cv=2,\n",
       "             estimator=Pipeline(steps=[(&#x27;preprocessing&#x27;,\n",
       "                                        ColumnTransformer(transformers=[(&#x27;scaler&#x27;,\n",
       "                                                                         StandardScaler(),\n",
       "                                                                         [&#x27;BMI&#x27;,\n",
       "                                                                          &#x27;MentHlth&#x27;,\n",
       "                                                                          &#x27;PhysHlth&#x27;]),\n",
       "                                                                        (&#x27;encoding&#x27;,\n",
       "                                                                         OrdinalEncoder(),\n",
       "                                                                         [&#x27;Age&#x27;,\n",
       "                                                                          &#x27;Sex&#x27;,\n",
       "                                                                          &#x27;HighChol&#x27;,\n",
       "                                                                          &#x27;CholCheck&#x27;,\n",
       "                                                                          &#x27;Smoker&#x27;,\n",
       "                                                                          &#x27;HeartDiseaseorAttack&#x27;,\n",
       "                                                                          &#x27;Fruits&#x27;,\n",
       "                                                                          &#x27;Veggies&#x27;,\n",
       "                                                                          &#x27;HvyAlcoholConsump&#x27;,\n",
       "                                                                          &#x27;GenHlth&#x27;,\n",
       "                                                                          &#x27;DiffWalk&#x27;,\n",
       "                                                                          &#x27;Stroke&#x27;,\n",
       "                                                                          &#x27;HighBP&#x27;])])),\n",
       "                                       (&#x27;classifier&#x27;, SVC())]),\n",
       "             param_grid={&#x27;classifier__C&#x27;: [100, 1000, 10000],\n",
       "                         &#x27;classifier__gamma&#x27;: [0.001, 0.0001, 1e-05]})</pre><b>In a Jupyter environment, please rerun this cell to show the HTML representation or trust the notebook. <br />On GitHub, the HTML representation is unable to render, please try loading this page with nbviewer.org.</b></div><div class=\"sk-container\" hidden><div class=\"sk-item sk-dashed-wrapped\"><div class=\"sk-label-container\"><div class=\"sk-label sk-toggleable\"><input class=\"sk-toggleable__control sk-hidden--visually\" id=\"sk-estimator-id-1\" type=\"checkbox\" ><label for=\"sk-estimator-id-1\" class=\"sk-toggleable__label sk-toggleable__label-arrow\">GridSearchCV</label><div class=\"sk-toggleable__content\"><pre>GridSearchCV(cv=2,\n",
       "             estimator=Pipeline(steps=[(&#x27;preprocessing&#x27;,\n",
       "                                        ColumnTransformer(transformers=[(&#x27;scaler&#x27;,\n",
       "                                                                         StandardScaler(),\n",
       "                                                                         [&#x27;BMI&#x27;,\n",
       "                                                                          &#x27;MentHlth&#x27;,\n",
       "                                                                          &#x27;PhysHlth&#x27;]),\n",
       "                                                                        (&#x27;encoding&#x27;,\n",
       "                                                                         OrdinalEncoder(),\n",
       "                                                                         [&#x27;Age&#x27;,\n",
       "                                                                          &#x27;Sex&#x27;,\n",
       "                                                                          &#x27;HighChol&#x27;,\n",
       "                                                                          &#x27;CholCheck&#x27;,\n",
       "                                                                          &#x27;Smoker&#x27;,\n",
       "                                                                          &#x27;HeartDiseaseorAttack&#x27;,\n",
       "                                                                          &#x27;Fruits&#x27;,\n",
       "                                                                          &#x27;Veggies&#x27;,\n",
       "                                                                          &#x27;HvyAlcoholConsump&#x27;,\n",
       "                                                                          &#x27;GenHlth&#x27;,\n",
       "                                                                          &#x27;DiffWalk&#x27;,\n",
       "                                                                          &#x27;Stroke&#x27;,\n",
       "                                                                          &#x27;HighBP&#x27;])])),\n",
       "                                       (&#x27;classifier&#x27;, SVC())]),\n",
       "             param_grid={&#x27;classifier__C&#x27;: [100, 1000, 10000],\n",
       "                         &#x27;classifier__gamma&#x27;: [0.001, 0.0001, 1e-05]})</pre></div></div></div><div class=\"sk-parallel\"><div class=\"sk-parallel-item\"><div class=\"sk-item\"><div class=\"sk-label-container\"><div class=\"sk-label sk-toggleable\"><input class=\"sk-toggleable__control sk-hidden--visually\" id=\"sk-estimator-id-2\" type=\"checkbox\" ><label for=\"sk-estimator-id-2\" class=\"sk-toggleable__label sk-toggleable__label-arrow\">estimator: Pipeline</label><div class=\"sk-toggleable__content\"><pre>Pipeline(steps=[(&#x27;preprocessing&#x27;,\n",
       "                 ColumnTransformer(transformers=[(&#x27;scaler&#x27;, StandardScaler(),\n",
       "                                                  [&#x27;BMI&#x27;, &#x27;MentHlth&#x27;,\n",
       "                                                   &#x27;PhysHlth&#x27;]),\n",
       "                                                 (&#x27;encoding&#x27;, OrdinalEncoder(),\n",
       "                                                  [&#x27;Age&#x27;, &#x27;Sex&#x27;, &#x27;HighChol&#x27;,\n",
       "                                                   &#x27;CholCheck&#x27;, &#x27;Smoker&#x27;,\n",
       "                                                   &#x27;HeartDiseaseorAttack&#x27;,\n",
       "                                                   &#x27;Fruits&#x27;, &#x27;Veggies&#x27;,\n",
       "                                                   &#x27;HvyAlcoholConsump&#x27;,\n",
       "                                                   &#x27;GenHlth&#x27;, &#x27;DiffWalk&#x27;,\n",
       "                                                   &#x27;Stroke&#x27;, &#x27;HighBP&#x27;])])),\n",
       "                (&#x27;classifier&#x27;, SVC())])</pre></div></div></div><div class=\"sk-serial\"><div class=\"sk-item\"><div class=\"sk-serial\"><div class=\"sk-item sk-dashed-wrapped\"><div class=\"sk-label-container\"><div class=\"sk-label sk-toggleable\"><input class=\"sk-toggleable__control sk-hidden--visually\" id=\"sk-estimator-id-3\" type=\"checkbox\" ><label for=\"sk-estimator-id-3\" class=\"sk-toggleable__label sk-toggleable__label-arrow\">preprocessing: ColumnTransformer</label><div class=\"sk-toggleable__content\"><pre>ColumnTransformer(transformers=[(&#x27;scaler&#x27;, StandardScaler(),\n",
       "                                 [&#x27;BMI&#x27;, &#x27;MentHlth&#x27;, &#x27;PhysHlth&#x27;]),\n",
       "                                (&#x27;encoding&#x27;, OrdinalEncoder(),\n",
       "                                 [&#x27;Age&#x27;, &#x27;Sex&#x27;, &#x27;HighChol&#x27;, &#x27;CholCheck&#x27;,\n",
       "                                  &#x27;Smoker&#x27;, &#x27;HeartDiseaseorAttack&#x27;, &#x27;Fruits&#x27;,\n",
       "                                  &#x27;Veggies&#x27;, &#x27;HvyAlcoholConsump&#x27;, &#x27;GenHlth&#x27;,\n",
       "                                  &#x27;DiffWalk&#x27;, &#x27;Stroke&#x27;, &#x27;HighBP&#x27;])])</pre></div></div></div><div class=\"sk-parallel\"><div class=\"sk-parallel-item\"><div class=\"sk-item\"><div class=\"sk-label-container\"><div class=\"sk-label sk-toggleable\"><input class=\"sk-toggleable__control sk-hidden--visually\" id=\"sk-estimator-id-4\" type=\"checkbox\" ><label for=\"sk-estimator-id-4\" class=\"sk-toggleable__label sk-toggleable__label-arrow\">scaler</label><div class=\"sk-toggleable__content\"><pre>[&#x27;BMI&#x27;, &#x27;MentHlth&#x27;, &#x27;PhysHlth&#x27;]</pre></div></div></div><div class=\"sk-serial\"><div class=\"sk-item\"><div class=\"sk-estimator sk-toggleable\"><input class=\"sk-toggleable__control sk-hidden--visually\" id=\"sk-estimator-id-5\" type=\"checkbox\" ><label for=\"sk-estimator-id-5\" class=\"sk-toggleable__label sk-toggleable__label-arrow\">StandardScaler</label><div class=\"sk-toggleable__content\"><pre>StandardScaler()</pre></div></div></div></div></div></div><div class=\"sk-parallel-item\"><div class=\"sk-item\"><div class=\"sk-label-container\"><div class=\"sk-label sk-toggleable\"><input class=\"sk-toggleable__control sk-hidden--visually\" id=\"sk-estimator-id-6\" type=\"checkbox\" ><label for=\"sk-estimator-id-6\" class=\"sk-toggleable__label sk-toggleable__label-arrow\">encoding</label><div class=\"sk-toggleable__content\"><pre>[&#x27;Age&#x27;, &#x27;Sex&#x27;, &#x27;HighChol&#x27;, &#x27;CholCheck&#x27;, &#x27;Smoker&#x27;, &#x27;HeartDiseaseorAttack&#x27;, &#x27;Fruits&#x27;, &#x27;Veggies&#x27;, &#x27;HvyAlcoholConsump&#x27;, &#x27;GenHlth&#x27;, &#x27;DiffWalk&#x27;, &#x27;Stroke&#x27;, &#x27;HighBP&#x27;]</pre></div></div></div><div class=\"sk-serial\"><div class=\"sk-item\"><div class=\"sk-estimator sk-toggleable\"><input class=\"sk-toggleable__control sk-hidden--visually\" id=\"sk-estimator-id-7\" type=\"checkbox\" ><label for=\"sk-estimator-id-7\" class=\"sk-toggleable__label sk-toggleable__label-arrow\">OrdinalEncoder</label><div class=\"sk-toggleable__content\"><pre>OrdinalEncoder()</pre></div></div></div></div></div></div></div></div><div class=\"sk-item\"><div class=\"sk-estimator sk-toggleable\"><input class=\"sk-toggleable__control sk-hidden--visually\" id=\"sk-estimator-id-8\" type=\"checkbox\" ><label for=\"sk-estimator-id-8\" class=\"sk-toggleable__label sk-toggleable__label-arrow\">SVC</label><div class=\"sk-toggleable__content\"><pre>SVC()</pre></div></div></div></div></div></div></div></div></div></div></div></div>"
      ],
      "text/plain": [
       "GridSearchCV(cv=2,\n",
       "             estimator=Pipeline(steps=[('preprocessing',\n",
       "                                        ColumnTransformer(transformers=[('scaler',\n",
       "                                                                         StandardScaler(),\n",
       "                                                                         ['BMI',\n",
       "                                                                          'MentHlth',\n",
       "                                                                          'PhysHlth']),\n",
       "                                                                        ('encoding',\n",
       "                                                                         OrdinalEncoder(),\n",
       "                                                                         ['Age',\n",
       "                                                                          'Sex',\n",
       "                                                                          'HighChol',\n",
       "                                                                          'CholCheck',\n",
       "                                                                          'Smoker',\n",
       "                                                                          'HeartDiseaseorAttack',\n",
       "                                                                          'Fruits',\n",
       "                                                                          'Veggies',\n",
       "                                                                          'HvyAlcoholConsump',\n",
       "                                                                          'GenHlth',\n",
       "                                                                          'DiffWalk',\n",
       "                                                                          'Stroke',\n",
       "                                                                          'HighBP'])])),\n",
       "                                       ('classifier', SVC())]),\n",
       "             param_grid={'classifier__C': [100, 1000, 10000],\n",
       "                         'classifier__gamma': [0.001, 0.0001, 1e-05]})"
      ]
     },
     "execution_count": 66,
     "metadata": {},
     "output_type": "execute_result"
    }
   ],
   "source": [
    "# GridSearchCV\n",
    "clf_grid_svc = GridSearchCV(pipe_svc, param_grid=param_grid_svc, cv=2)\n",
    "clf_grid_svc.fit(X_train, y_train)"
   ]
  },
  {
   "cell_type": "code",
   "execution_count": 67,
   "metadata": {},
   "outputs": [
    {
     "data": {
      "text/plain": [
       "{'classifier__C': 100, 'classifier__gamma': 0.001}"
      ]
     },
     "execution_count": 67,
     "metadata": {},
     "output_type": "execute_result"
    }
   ],
   "source": [
    "# best_params\n",
    "best_params_svc = clf_grid_svc.best_params_\n",
    "best_params_svc"
   ]
  },
  {
   "cell_type": "code",
   "execution_count": 68,
   "metadata": {},
   "outputs": [
    {
     "data": {
      "text/html": [
       "<style>#sk-container-id-2 {color: black;}#sk-container-id-2 pre{padding: 0;}#sk-container-id-2 div.sk-toggleable {background-color: white;}#sk-container-id-2 label.sk-toggleable__label {cursor: pointer;display: block;width: 100%;margin-bottom: 0;padding: 0.3em;box-sizing: border-box;text-align: center;}#sk-container-id-2 label.sk-toggleable__label-arrow:before {content: \"▸\";float: left;margin-right: 0.25em;color: #696969;}#sk-container-id-2 label.sk-toggleable__label-arrow:hover:before {color: black;}#sk-container-id-2 div.sk-estimator:hover label.sk-toggleable__label-arrow:before {color: black;}#sk-container-id-2 div.sk-toggleable__content {max-height: 0;max-width: 0;overflow: hidden;text-align: left;background-color: #f0f8ff;}#sk-container-id-2 div.sk-toggleable__content pre {margin: 0.2em;color: black;border-radius: 0.25em;background-color: #f0f8ff;}#sk-container-id-2 input.sk-toggleable__control:checked~div.sk-toggleable__content {max-height: 200px;max-width: 100%;overflow: auto;}#sk-container-id-2 input.sk-toggleable__control:checked~label.sk-toggleable__label-arrow:before {content: \"▾\";}#sk-container-id-2 div.sk-estimator input.sk-toggleable__control:checked~label.sk-toggleable__label {background-color: #d4ebff;}#sk-container-id-2 div.sk-label input.sk-toggleable__control:checked~label.sk-toggleable__label {background-color: #d4ebff;}#sk-container-id-2 input.sk-hidden--visually {border: 0;clip: rect(1px 1px 1px 1px);clip: rect(1px, 1px, 1px, 1px);height: 1px;margin: -1px;overflow: hidden;padding: 0;position: absolute;width: 1px;}#sk-container-id-2 div.sk-estimator {font-family: monospace;background-color: #f0f8ff;border: 1px dotted black;border-radius: 0.25em;box-sizing: border-box;margin-bottom: 0.5em;}#sk-container-id-2 div.sk-estimator:hover {background-color: #d4ebff;}#sk-container-id-2 div.sk-parallel-item::after {content: \"\";width: 100%;border-bottom: 1px solid gray;flex-grow: 1;}#sk-container-id-2 div.sk-label:hover label.sk-toggleable__label {background-color: #d4ebff;}#sk-container-id-2 div.sk-serial::before {content: \"\";position: absolute;border-left: 1px solid gray;box-sizing: border-box;top: 0;bottom: 0;left: 50%;z-index: 0;}#sk-container-id-2 div.sk-serial {display: flex;flex-direction: column;align-items: center;background-color: white;padding-right: 0.2em;padding-left: 0.2em;position: relative;}#sk-container-id-2 div.sk-item {position: relative;z-index: 1;}#sk-container-id-2 div.sk-parallel {display: flex;align-items: stretch;justify-content: center;background-color: white;position: relative;}#sk-container-id-2 div.sk-item::before, #sk-container-id-2 div.sk-parallel-item::before {content: \"\";position: absolute;border-left: 1px solid gray;box-sizing: border-box;top: 0;bottom: 0;left: 50%;z-index: -1;}#sk-container-id-2 div.sk-parallel-item {display: flex;flex-direction: column;z-index: 1;position: relative;background-color: white;}#sk-container-id-2 div.sk-parallel-item:first-child::after {align-self: flex-end;width: 50%;}#sk-container-id-2 div.sk-parallel-item:last-child::after {align-self: flex-start;width: 50%;}#sk-container-id-2 div.sk-parallel-item:only-child::after {width: 0;}#sk-container-id-2 div.sk-dashed-wrapped {border: 1px dashed gray;margin: 0 0.4em 0.5em 0.4em;box-sizing: border-box;padding-bottom: 0.4em;background-color: white;}#sk-container-id-2 div.sk-label label {font-family: monospace;font-weight: bold;display: inline-block;line-height: 1.2em;}#sk-container-id-2 div.sk-label-container {text-align: center;}#sk-container-id-2 div.sk-container {/* jupyter's `normalize.less` sets `[hidden] { display: none; }` but bootstrap.min.css set `[hidden] { display: none !important; }` so we also need the `!important` here to be able to override the default hidden behavior on the sphinx rendered scikit-learn.org. See: https://github.com/scikit-learn/scikit-learn/issues/21755 */display: inline-block !important;position: relative;}#sk-container-id-2 div.sk-text-repr-fallback {display: none;}</style><div id=\"sk-container-id-2\" class=\"sk-top-container\"><div class=\"sk-text-repr-fallback\"><pre>Pipeline(steps=[(&#x27;preprocessing&#x27;,\n",
       "                 ColumnTransformer(transformers=[(&#x27;scaler&#x27;, StandardScaler(),\n",
       "                                                  [&#x27;BMI&#x27;, &#x27;MentHlth&#x27;,\n",
       "                                                   &#x27;PhysHlth&#x27;]),\n",
       "                                                 (&#x27;encoding&#x27;, OrdinalEncoder(),\n",
       "                                                  [&#x27;Age&#x27;, &#x27;Sex&#x27;, &#x27;HighChol&#x27;,\n",
       "                                                   &#x27;CholCheck&#x27;, &#x27;Smoker&#x27;,\n",
       "                                                   &#x27;HeartDiseaseorAttack&#x27;,\n",
       "                                                   &#x27;Fruits&#x27;, &#x27;Veggies&#x27;,\n",
       "                                                   &#x27;HvyAlcoholConsump&#x27;,\n",
       "                                                   &#x27;GenHlth&#x27;, &#x27;DiffWalk&#x27;,\n",
       "                                                   &#x27;Stroke&#x27;, &#x27;HighBP&#x27;])])),\n",
       "                (&#x27;classifier&#x27;, SVC(C=100, gamma=0.001))])</pre><b>In a Jupyter environment, please rerun this cell to show the HTML representation or trust the notebook. <br />On GitHub, the HTML representation is unable to render, please try loading this page with nbviewer.org.</b></div><div class=\"sk-container\" hidden><div class=\"sk-item sk-dashed-wrapped\"><div class=\"sk-label-container\"><div class=\"sk-label sk-toggleable\"><input class=\"sk-toggleable__control sk-hidden--visually\" id=\"sk-estimator-id-9\" type=\"checkbox\" ><label for=\"sk-estimator-id-9\" class=\"sk-toggleable__label sk-toggleable__label-arrow\">Pipeline</label><div class=\"sk-toggleable__content\"><pre>Pipeline(steps=[(&#x27;preprocessing&#x27;,\n",
       "                 ColumnTransformer(transformers=[(&#x27;scaler&#x27;, StandardScaler(),\n",
       "                                                  [&#x27;BMI&#x27;, &#x27;MentHlth&#x27;,\n",
       "                                                   &#x27;PhysHlth&#x27;]),\n",
       "                                                 (&#x27;encoding&#x27;, OrdinalEncoder(),\n",
       "                                                  [&#x27;Age&#x27;, &#x27;Sex&#x27;, &#x27;HighChol&#x27;,\n",
       "                                                   &#x27;CholCheck&#x27;, &#x27;Smoker&#x27;,\n",
       "                                                   &#x27;HeartDiseaseorAttack&#x27;,\n",
       "                                                   &#x27;Fruits&#x27;, &#x27;Veggies&#x27;,\n",
       "                                                   &#x27;HvyAlcoholConsump&#x27;,\n",
       "                                                   &#x27;GenHlth&#x27;, &#x27;DiffWalk&#x27;,\n",
       "                                                   &#x27;Stroke&#x27;, &#x27;HighBP&#x27;])])),\n",
       "                (&#x27;classifier&#x27;, SVC(C=100, gamma=0.001))])</pre></div></div></div><div class=\"sk-serial\"><div class=\"sk-item sk-dashed-wrapped\"><div class=\"sk-label-container\"><div class=\"sk-label sk-toggleable\"><input class=\"sk-toggleable__control sk-hidden--visually\" id=\"sk-estimator-id-10\" type=\"checkbox\" ><label for=\"sk-estimator-id-10\" class=\"sk-toggleable__label sk-toggleable__label-arrow\">preprocessing: ColumnTransformer</label><div class=\"sk-toggleable__content\"><pre>ColumnTransformer(transformers=[(&#x27;scaler&#x27;, StandardScaler(),\n",
       "                                 [&#x27;BMI&#x27;, &#x27;MentHlth&#x27;, &#x27;PhysHlth&#x27;]),\n",
       "                                (&#x27;encoding&#x27;, OrdinalEncoder(),\n",
       "                                 [&#x27;Age&#x27;, &#x27;Sex&#x27;, &#x27;HighChol&#x27;, &#x27;CholCheck&#x27;,\n",
       "                                  &#x27;Smoker&#x27;, &#x27;HeartDiseaseorAttack&#x27;, &#x27;Fruits&#x27;,\n",
       "                                  &#x27;Veggies&#x27;, &#x27;HvyAlcoholConsump&#x27;, &#x27;GenHlth&#x27;,\n",
       "                                  &#x27;DiffWalk&#x27;, &#x27;Stroke&#x27;, &#x27;HighBP&#x27;])])</pre></div></div></div><div class=\"sk-parallel\"><div class=\"sk-parallel-item\"><div class=\"sk-item\"><div class=\"sk-label-container\"><div class=\"sk-label sk-toggleable\"><input class=\"sk-toggleable__control sk-hidden--visually\" id=\"sk-estimator-id-11\" type=\"checkbox\" ><label for=\"sk-estimator-id-11\" class=\"sk-toggleable__label sk-toggleable__label-arrow\">scaler</label><div class=\"sk-toggleable__content\"><pre>[&#x27;BMI&#x27;, &#x27;MentHlth&#x27;, &#x27;PhysHlth&#x27;]</pre></div></div></div><div class=\"sk-serial\"><div class=\"sk-item\"><div class=\"sk-estimator sk-toggleable\"><input class=\"sk-toggleable__control sk-hidden--visually\" id=\"sk-estimator-id-12\" type=\"checkbox\" ><label for=\"sk-estimator-id-12\" class=\"sk-toggleable__label sk-toggleable__label-arrow\">StandardScaler</label><div class=\"sk-toggleable__content\"><pre>StandardScaler()</pre></div></div></div></div></div></div><div class=\"sk-parallel-item\"><div class=\"sk-item\"><div class=\"sk-label-container\"><div class=\"sk-label sk-toggleable\"><input class=\"sk-toggleable__control sk-hidden--visually\" id=\"sk-estimator-id-13\" type=\"checkbox\" ><label for=\"sk-estimator-id-13\" class=\"sk-toggleable__label sk-toggleable__label-arrow\">encoding</label><div class=\"sk-toggleable__content\"><pre>[&#x27;Age&#x27;, &#x27;Sex&#x27;, &#x27;HighChol&#x27;, &#x27;CholCheck&#x27;, &#x27;Smoker&#x27;, &#x27;HeartDiseaseorAttack&#x27;, &#x27;Fruits&#x27;, &#x27;Veggies&#x27;, &#x27;HvyAlcoholConsump&#x27;, &#x27;GenHlth&#x27;, &#x27;DiffWalk&#x27;, &#x27;Stroke&#x27;, &#x27;HighBP&#x27;]</pre></div></div></div><div class=\"sk-serial\"><div class=\"sk-item\"><div class=\"sk-estimator sk-toggleable\"><input class=\"sk-toggleable__control sk-hidden--visually\" id=\"sk-estimator-id-14\" type=\"checkbox\" ><label for=\"sk-estimator-id-14\" class=\"sk-toggleable__label sk-toggleable__label-arrow\">OrdinalEncoder</label><div class=\"sk-toggleable__content\"><pre>OrdinalEncoder()</pre></div></div></div></div></div></div></div></div><div class=\"sk-item\"><div class=\"sk-estimator sk-toggleable\"><input class=\"sk-toggleable__control sk-hidden--visually\" id=\"sk-estimator-id-15\" type=\"checkbox\" ><label for=\"sk-estimator-id-15\" class=\"sk-toggleable__label sk-toggleable__label-arrow\">SVC</label><div class=\"sk-toggleable__content\"><pre>SVC(C=100, gamma=0.001)</pre></div></div></div></div></div></div></div>"
      ],
      "text/plain": [
       "Pipeline(steps=[('preprocessing',\n",
       "                 ColumnTransformer(transformers=[('scaler', StandardScaler(),\n",
       "                                                  ['BMI', 'MentHlth',\n",
       "                                                   'PhysHlth']),\n",
       "                                                 ('encoding', OrdinalEncoder(),\n",
       "                                                  ['Age', 'Sex', 'HighChol',\n",
       "                                                   'CholCheck', 'Smoker',\n",
       "                                                   'HeartDiseaseorAttack',\n",
       "                                                   'Fruits', 'Veggies',\n",
       "                                                   'HvyAlcoholConsump',\n",
       "                                                   'GenHlth', 'DiffWalk',\n",
       "                                                   'Stroke', 'HighBP'])])),\n",
       "                ('classifier', SVC(C=100, gamma=0.001))])"
      ]
     },
     "execution_count": 68,
     "metadata": {},
     "output_type": "execute_result"
    }
   ],
   "source": [
    "# best_estimator\n",
    "best_estimator_svc = clf_grid_svc.best_estimator_\n",
    "best_estimator_svc"
   ]
  },
  {
   "cell_type": "code",
   "execution_count": 69,
   "metadata": {},
   "outputs": [
    {
     "data": {
      "text/html": [
       "<style>#sk-container-id-3 {color: black;}#sk-container-id-3 pre{padding: 0;}#sk-container-id-3 div.sk-toggleable {background-color: white;}#sk-container-id-3 label.sk-toggleable__label {cursor: pointer;display: block;width: 100%;margin-bottom: 0;padding: 0.3em;box-sizing: border-box;text-align: center;}#sk-container-id-3 label.sk-toggleable__label-arrow:before {content: \"▸\";float: left;margin-right: 0.25em;color: #696969;}#sk-container-id-3 label.sk-toggleable__label-arrow:hover:before {color: black;}#sk-container-id-3 div.sk-estimator:hover label.sk-toggleable__label-arrow:before {color: black;}#sk-container-id-3 div.sk-toggleable__content {max-height: 0;max-width: 0;overflow: hidden;text-align: left;background-color: #f0f8ff;}#sk-container-id-3 div.sk-toggleable__content pre {margin: 0.2em;color: black;border-radius: 0.25em;background-color: #f0f8ff;}#sk-container-id-3 input.sk-toggleable__control:checked~div.sk-toggleable__content {max-height: 200px;max-width: 100%;overflow: auto;}#sk-container-id-3 input.sk-toggleable__control:checked~label.sk-toggleable__label-arrow:before {content: \"▾\";}#sk-container-id-3 div.sk-estimator input.sk-toggleable__control:checked~label.sk-toggleable__label {background-color: #d4ebff;}#sk-container-id-3 div.sk-label input.sk-toggleable__control:checked~label.sk-toggleable__label {background-color: #d4ebff;}#sk-container-id-3 input.sk-hidden--visually {border: 0;clip: rect(1px 1px 1px 1px);clip: rect(1px, 1px, 1px, 1px);height: 1px;margin: -1px;overflow: hidden;padding: 0;position: absolute;width: 1px;}#sk-container-id-3 div.sk-estimator {font-family: monospace;background-color: #f0f8ff;border: 1px dotted black;border-radius: 0.25em;box-sizing: border-box;margin-bottom: 0.5em;}#sk-container-id-3 div.sk-estimator:hover {background-color: #d4ebff;}#sk-container-id-3 div.sk-parallel-item::after {content: \"\";width: 100%;border-bottom: 1px solid gray;flex-grow: 1;}#sk-container-id-3 div.sk-label:hover label.sk-toggleable__label {background-color: #d4ebff;}#sk-container-id-3 div.sk-serial::before {content: \"\";position: absolute;border-left: 1px solid gray;box-sizing: border-box;top: 0;bottom: 0;left: 50%;z-index: 0;}#sk-container-id-3 div.sk-serial {display: flex;flex-direction: column;align-items: center;background-color: white;padding-right: 0.2em;padding-left: 0.2em;position: relative;}#sk-container-id-3 div.sk-item {position: relative;z-index: 1;}#sk-container-id-3 div.sk-parallel {display: flex;align-items: stretch;justify-content: center;background-color: white;position: relative;}#sk-container-id-3 div.sk-item::before, #sk-container-id-3 div.sk-parallel-item::before {content: \"\";position: absolute;border-left: 1px solid gray;box-sizing: border-box;top: 0;bottom: 0;left: 50%;z-index: -1;}#sk-container-id-3 div.sk-parallel-item {display: flex;flex-direction: column;z-index: 1;position: relative;background-color: white;}#sk-container-id-3 div.sk-parallel-item:first-child::after {align-self: flex-end;width: 50%;}#sk-container-id-3 div.sk-parallel-item:last-child::after {align-self: flex-start;width: 50%;}#sk-container-id-3 div.sk-parallel-item:only-child::after {width: 0;}#sk-container-id-3 div.sk-dashed-wrapped {border: 1px dashed gray;margin: 0 0.4em 0.5em 0.4em;box-sizing: border-box;padding-bottom: 0.4em;background-color: white;}#sk-container-id-3 div.sk-label label {font-family: monospace;font-weight: bold;display: inline-block;line-height: 1.2em;}#sk-container-id-3 div.sk-label-container {text-align: center;}#sk-container-id-3 div.sk-container {/* jupyter's `normalize.less` sets `[hidden] { display: none; }` but bootstrap.min.css set `[hidden] { display: none !important; }` so we also need the `!important` here to be able to override the default hidden behavior on the sphinx rendered scikit-learn.org. See: https://github.com/scikit-learn/scikit-learn/issues/21755 */display: inline-block !important;position: relative;}#sk-container-id-3 div.sk-text-repr-fallback {display: none;}</style><div id=\"sk-container-id-3\" class=\"sk-top-container\"><div class=\"sk-text-repr-fallback\"><pre>SVC(C=100, gamma=0.001)</pre><b>In a Jupyter environment, please rerun this cell to show the HTML representation or trust the notebook. <br />On GitHub, the HTML representation is unable to render, please try loading this page with nbviewer.org.</b></div><div class=\"sk-container\" hidden><div class=\"sk-item\"><div class=\"sk-estimator sk-toggleable\"><input class=\"sk-toggleable__control sk-hidden--visually\" id=\"sk-estimator-id-16\" type=\"checkbox\" checked><label for=\"sk-estimator-id-16\" class=\"sk-toggleable__label sk-toggleable__label-arrow\">SVC</label><div class=\"sk-toggleable__content\"><pre>SVC(C=100, gamma=0.001)</pre></div></div></div></div></div>"
      ],
      "text/plain": [
       "SVC(C=100, gamma=0.001)"
      ]
     },
     "execution_count": 69,
     "metadata": {},
     "output_type": "execute_result"
    }
   ],
   "source": [
    "# Get Particular Steps\n",
    "best_estimator_svc.named_steps['classifier']"
   ]
  },
  {
   "cell_type": "code",
   "execution_count": 70,
   "metadata": {},
   "outputs": [
    {
     "data": {
      "text/plain": [
       "array([0, 0, 0, ..., 1, 1, 1], dtype=int64)"
      ]
     },
     "execution_count": 70,
     "metadata": {},
     "output_type": "execute_result"
    }
   ],
   "source": [
    "# Train Model\n",
    "best_estimator_svc.fit(X_train, y_train)\n",
    "\n",
    "# prediction\n",
    "y_best_svc_pred = best_estimator_svc.predict(X_test)\n",
    "y_best_svc_pred"
   ]
  },
  {
   "cell_type": "code",
   "execution_count": 80,
   "metadata": {},
   "outputs": [
    {
     "name": "stdout",
     "output_type": "stream",
     "text": [
      "Training Best Estimator SVC - Training Score :  0.7358\n",
      "Testing Best Estimator SVC - Testing Score  :  0.7346\n"
     ]
    }
   ],
   "source": [
    "# Model Evaluation\n",
    "print('Training Best Estimator SVC - Training Score : ',round(best_estimator_svc.score(X_train, y_train),4))\n",
    "print('Testing Best Estimator SVC - Testing Score  : ', round(best_estimator_svc.score(X_test, y_test),4))"
   ]
  },
  {
   "cell_type": "code",
   "execution_count": 72,
   "metadata": {},
   "outputs": [
    {
     "name": "stdout",
     "output_type": "stream",
     "text": [
      "              precision    recall  f1-score   support\n",
      "\n",
      " No Diabetes       0.77      0.64      0.70      7746\n",
      "    Diabetes       0.71      0.82      0.76      8259\n",
      "\n",
      "    accuracy                           0.73     16005\n",
      "   macro avg       0.74      0.73      0.73     16005\n",
      "weighted avg       0.74      0.73      0.73     16005\n",
      "\n"
     ]
    }
   ],
   "source": [
    "# classification report dari knn\n",
    "target = ['No Diabetes', 'Diabetes']\n",
    "\n",
    "print(classification_report(y_test, y_best_svc_pred, target_names = target))"
   ]
  },
  {
   "cell_type": "code",
   "execution_count": 73,
   "metadata": {},
   "outputs": [
    {
     "name": "stdout",
     "output_type": "stream",
     "text": [
      "-- Best Estimator SVC --\n",
      "\n",
      "recall Score - All - Cross Validation  :  [0.81841687 0.82120127 0.81702466 0.81563246 0.8142033 ]\n",
      "recall Score - Mean - Cross Validation :  0.8172957121440799\n",
      "recall Score - Std - Cross Validation  :  0.002404714986498686\n",
      "recall Score - Range of Test-Set       :  0.8148909971575813 - 0.8197004271305786\n"
     ]
    }
   ],
   "source": [
    "#Cross Validation\n",
    "recall_train_cross_val = cross_val_score(best_estimator_svc,\n",
    "                                     X_train,\n",
    "                                     y_train,\n",
    "                                     cv=5,\n",
    "                                     scoring=\"recall\")\n",
    "\n",
    "print('-- Best Estimator SVC --\\n')\n",
    "print('recall Score - All - Cross Validation  : ', recall_train_cross_val)\n",
    "print('recall Score - Mean - Cross Validation : ', recall_train_cross_val.mean())\n",
    "print('recall Score - Std - Cross Validation  : ', recall_train_cross_val.std())\n",
    "print('recall Score - Range of Test-Set       : ', (recall_train_cross_val.mean()-recall_train_cross_val.std()) , '-', (recall_train_cross_val.mean()+recall_train_cross_val.std()))"
   ]
  },
  {
   "cell_type": "markdown",
   "metadata": {},
   "source": [
    "1. Based on the results of hyperparameter tuning, the best parameters are **C : 100** and **gamma : 0.001**.\n",
    "\n",
    "2. **Overfitting :**\n",
    "    - There are indications of overfitting, because there is a fairly small difference between the training score (0.7358) and the testing score (0.7346). Although the differences are small, they still indicate that the model tends to overfit the training data and may not be able to generalize well to the test data.\n",
    "\n",
    "3. **Recall Matrix Performance:**\n",
    "    - The high recall matrix value (0.82) indicates that the model has good abilities in recognizing certain classes. This indicates that the model can identify positive classes with a high success rate.\n",
    "\n",
    "4. **Cross Validation :**\n",
    "    - The results of cross validation show an average value of 0.8172 with a standard deviation of 0.0024. This high mean value indicates that the model has good performance in learning patterns from the data, while a low standard deviation indicates good consistency in model performance.\n",
    "\n",
    "Thus, even though there are indications of overfitting, the SVC model that has been hyperparameter tuned shows quite good performance. The model's ability to recognize certain classes, shown by the high recall matrix value, and consistency in model performance, shown by the cross validation results, indicate that the model can be relied on in carrying out classification. Nevertheless, handling overfitting can still be a major concern to improve the generalization ability of the model on new data."
   ]
  },
  {
   "cell_type": "markdown",
   "metadata": {},
   "source": [
    "# **J. Conclusions from the SVC Algorithm Before and After Hyperparameter Tuning**"
   ]
  },
  {
   "cell_type": "markdown",
   "metadata": {},
   "source": [
    "|                        | Before Hyperparameter Tuning | After Hyperparameter Tuning |\n",
    "|------------------------|-------------------------------|------------------------------|\n",
    "| Train Score            | 0.7362                        | 0.7358                       |\n",
    "| Testing Score          | 0.7338                        | 0.7346                       |\n",
    "| Recall Matrix          | 0.82                          | 0.82                         |\n",
    "| Cross Validation (Mean)| 0.8180                        | 0.8172                       |\n",
    "| Cross Validation (Std) | 0.0016                        | 0.0024                       |\n",
    "\n",
    "**Difference :**\n",
    "- **Cross Validation :** There was a small decrease in the average cross validation results after hyperparameter tuning (0.8172) compared to before (0.8180). However, the standard deviation slightly increases after tuning (0.0024) compared to before (0.0016), indicating a slight increase in variation in model performance.\n",
    "\n",
    "**Conclusion :**\n",
    "- Based on these values, the SVC model before hyperparameter tuning can be considered the best in terms of more consistent performance on never-before-seen test data. Although hyperparameter tuning may not provide a significant improvement in model performance in this case, the model before tuning has shown slightly better results. `Therefore, the SVC model before hyperparameter tuning can be selected as the best in this context`."
   ]
  },
  {
   "cell_type": "markdown",
   "metadata": {},
   "source": [
    "# **K. Model Saving**"
   ]
  },
  {
   "cell_type": "code",
   "execution_count": 77,
   "metadata": {},
   "outputs": [],
   "source": [
    "#Save the Files\n",
    "with open('model.pkl', 'wb') as file_1:\n",
    "  pickle.dump(pipe_svc, file_1)"
   ]
  },
  {
   "cell_type": "markdown",
   "metadata": {},
   "source": [
    "# **L. Conclusion**"
   ]
  },
  {
   "cell_type": "markdown",
   "metadata": {},
   "source": [
    "1. Diabetes is a serious disease that can affect all age groups. The risk of diabetes is closely related to high blood pressure, where individuals who experience this condition have a higher risk of developing diabetes. Additionally, people with diabetes tend to have high blood pressure, highlighting the interrelationship between the two conditions.\n",
    "\n",
    "2. High cholesterol is also a significant risk factor for diabetes, with the majority of diabetic and non-diabetic patients having high cholesterol levels. The proportion of people with diabetes tends to be higher in those with high cholesterol levels than in those with low levels, although there are still a large number of patients without diabetes among those with high cholesterol. Therefore, efforts to prevent and treat diabetes need to pay attention to managing blood pressure and cholesterol to reduce the risk and impact of this disease.\n",
    "\n",
    "3. Based on a comparison of the KNN, SVC, Decision Tree, Random Forest and AdaBoostClassifier algorithms. The algorithm that provides the best results is SVC. Even though it has a little overfitting, SVC has a high test score, a good recall matrix value (0.82), and the results of cross validation show that the model is able to perform classification with high accuracy and is able to generalize well on new data. This shows that SVC is able to provide a good balance between generalization ability and performance on test data.\n",
    "\n",
    "4. Based on the comparison of SVC before and after hyperparameter tuning, the SVC model before hyperparameter tuning can be considered the best in terms of more consistent performance on never-before-seen test data. Although hyperparameter tuning may not provide a significant improvement in model performance in this case, the model before tuning has shown slightly better results. Therefore, the SVC model before hyperparameter tuning can be selected as the best in this context.\n",
    "\n",
    "5. Advantages and disadvantages of the SVC model:\n",
    "    - Excess:\n",
    "        - **Robust against Outliers:** SVC tends to be more robust against outliers or outliers in the data because it uses a maximum margin to separate classes.\n",
    "        - **Generating Optimal Decision Boundaries:** SVC attempts to maximize the margin between separated classes, making it possible to construct optimal decision boundaries.\n",
    "\n",
    "    - Lack:\n",
    "        - **Requires High Computation Time:** Especially on large datasets, SVC requires relatively high computation time to train the model, especially when using complex kernels or on feature spaces that have many dimensions.\n",
    "\n",
    "6. To improve the SVC model, several model improvement steps that can be taken are:\n",
    "    - **Hyperparameter Optimization :** Performs hyperparameter retuning to find better combinations that can improve model performance.\n",
    "    - **Feature Engineering :** Perform further analysis of the features used in the model and identify whether there are any features that can be added, removed, or changed to improve the separation between target classes.\n"
   ]
  }
 ],
 "metadata": {
  "kernelspec": {
   "display_name": "base",
   "language": "python",
   "name": "python3"
  },
  "language_info": {
   "codemirror_mode": {
    "name": "ipython",
    "version": 3
   },
   "file_extension": ".py",
   "mimetype": "text/x-python",
   "name": "python",
   "nbconvert_exporter": "python",
   "pygments_lexer": "ipython3",
   "version": "3.11.5"
  }
 },
 "nbformat": 4,
 "nbformat_minor": 2
}
